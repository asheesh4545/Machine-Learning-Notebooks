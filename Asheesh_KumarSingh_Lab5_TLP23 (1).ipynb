{
  "nbformat": 4,
  "nbformat_minor": 0,
  "metadata": {
    "colab": {
      "provenance": []
    },
    "kernelspec": {
      "name": "python3",
      "display_name": "Python 3"
    },
    "language_info": {
      "name": "python"
    }
  },
  "cells": [
    {
      "cell_type": "markdown",
      "source": [
        "## Q1 K-Means"
      ],
      "metadata": {
        "id": "L_njda2B4cD3"
      }
    },
    {
      "cell_type": "markdown",
      "source": [
        "Implement K-Means Clustering on the dataset at the following location :  https://archive.ics.uci.edu/ml/datasets/Facebook+Live+Sellers+in+Thailand\n",
        "\n",
        "You are expected to do all necessary EDA, feature scaling and transforms.\n",
        "\n",
        "First, arbitarily choose cluster value as 2. Then use the elbow method which was discussed in class to identify the best number of cluster. While exploring this, if you observe the need to consider inertia as a factor, do so with proper rationale.\n",
        "\n",
        "Write a bried explanation as to how PCA can help with clustering in this example."
      ],
      "metadata": {
        "id": "LSgVf7Ji4fdp"
      }
    },
    {
      "cell_type": "code",
      "source": [
        "import numpy as np\n",
        "import pandas as pd\n",
        "import matplotlib.pyplot as plt\n",
        "plt.style.use('ggplot')"
      ],
      "metadata": {
        "id": "uAcVFMZy4bcz"
      },
      "execution_count": 107,
      "outputs": []
    },
    {
      "cell_type": "code",
      "source": [
        "df = pd.read_csv(\"Live_20210128.csv\")"
      ],
      "metadata": {
        "id": "XwEuoQ04eKGY"
      },
      "execution_count": 108,
      "outputs": []
    },
    {
      "cell_type": "code",
      "source": [
        "df.isnull().sum()"
      ],
      "metadata": {
        "colab": {
          "base_uri": "https://localhost:8080/"
        },
        "id": "WZAp0qITfmPt",
        "outputId": "316c9ae6-f53d-437d-f586-633d553b65a8"
      },
      "execution_count": 109,
      "outputs": [
        {
          "output_type": "execute_result",
          "data": {
            "text/plain": [
              "status_id              0\n",
              "status_type            0\n",
              "status_published       0\n",
              "num_reactions          0\n",
              "num_comments           0\n",
              "num_shares             0\n",
              "num_likes              0\n",
              "num_loves              0\n",
              "num_wows               0\n",
              "num_hahas              0\n",
              "num_sads               0\n",
              "num_angrys             0\n",
              "Column1             7050\n",
              "Column2             7050\n",
              "Column3             7050\n",
              "Column4             7050\n",
              "dtype: int64"
            ]
          },
          "metadata": {},
          "execution_count": 109
        }
      ]
    },
    {
      "cell_type": "code",
      "source": [
        "#Dropping the unnecessary columns \n",
        "df.drop(['Column1', 'Column2', 'Column3', 'Column4'], axis=1, inplace=True)"
      ],
      "metadata": {
        "id": "TrR8-zv2eKJX"
      },
      "execution_count": 110,
      "outputs": []
    },
    {
      "cell_type": "code",
      "source": [
        "print(\"status_id:\",len(df['status_id'].unique()))\n",
        "print(\"status_type:\",len(df['status_type'].unique()))\n",
        "print(\"status_published:\",len(df['status_published'].unique()))"
      ],
      "metadata": {
        "colab": {
          "base_uri": "https://localhost:8080/"
        },
        "id": "UlJC-W4UeKMU",
        "outputId": "59ba0c62-9b8b-421c-f5d7-bb71bf5051a4"
      },
      "execution_count": 111,
      "outputs": [
        {
          "output_type": "stream",
          "name": "stdout",
          "text": [
            "status_id: 7050\n",
            "status_type: 4\n",
            "status_published: 6913\n"
          ]
        }
      ]
    },
    {
      "cell_type": "code",
      "source": [],
      "metadata": {
        "id": "ALwKP8g10aCU"
      },
      "execution_count": 111,
      "outputs": []
    },
    {
      "cell_type": "markdown",
      "source": [
        "Before coming up with this approach of dropping the status_published column. I tried fetching info like month, year, day and hour from the status_published column with the preassumption that these parameters could be influential in analysing a social media dataset but unfortunately it did not work properly as I was getting a very ambigious inertia vs K graph. It was not possible to determine the optimum value of K from it and thus continued with the below approach."
      ],
      "metadata": {
        "id": "s1S8ugTQ0eWW"
      }
    },
    {
      "cell_type": "code",
      "source": [
        "#Dropping the status id\n",
        "df.drop(['status_id'], axis=1, inplace=True)\n",
        "df.drop(['status_published'], axis=1, inplace=True)\n",
        "df.drop(['status_type'], axis=1, inplace=True)"
      ],
      "metadata": {
        "id": "eXyD9X-2eKPL"
      },
      "execution_count": 112,
      "outputs": []
    },
    {
      "cell_type": "code",
      "source": [
        "#Looking for highly correlated columns \n",
        "df.corr()"
      ],
      "metadata": {
        "colab": {
          "base_uri": "https://localhost:8080/",
          "height": 396
        },
        "id": "FbfViK8AeKa1",
        "outputId": "2bccce84-4a44-4daf-a820-350fc2273278"
      },
      "execution_count": 113,
      "outputs": [
        {
          "output_type": "execute_result",
          "data": {
            "text/plain": [
              "               num_reactions  num_comments  num_shares  num_likes  num_loves  \\\n",
              "num_reactions       1.000000      0.150843    0.250723   0.994923   0.305003   \n",
              "num_comments        0.150843      1.000000    0.640637   0.101687   0.521223   \n",
              "num_shares          0.250723      0.640637    1.000000   0.172492   0.820000   \n",
              "num_likes           0.994923      0.101687    0.172492   1.000000   0.209308   \n",
              "num_loves           0.305003      0.521223    0.820000   0.209308   1.000000   \n",
              "num_wows            0.267752      0.162394    0.407628   0.207800   0.508798   \n",
              "num_hahas           0.176028      0.325048    0.399826   0.120784   0.507830   \n",
              "num_sads            0.075138      0.236453    0.199970   0.052169   0.207600   \n",
              "num_angrys          0.124326      0.225184    0.312513   0.087431   0.371001   \n",
              "\n",
              "               num_wows  num_hahas  num_sads  num_angrys  \n",
              "num_reactions  0.267752   0.176028  0.075138    0.124326  \n",
              "num_comments   0.162394   0.325048  0.236453    0.225184  \n",
              "num_shares     0.407628   0.399826  0.199970    0.312513  \n",
              "num_likes      0.207800   0.120784  0.052169    0.087431  \n",
              "num_loves      0.508798   0.507830  0.207600    0.371001  \n",
              "num_wows       1.000000   0.287756  0.086503    0.183087  \n",
              "num_hahas      0.287756   1.000000  0.141421    0.211910  \n",
              "num_sads       0.086503   0.141421  1.000000    0.142072  \n",
              "num_angrys     0.183087   0.211910  0.142072    1.000000  "
            ],
            "text/html": [
              "\n",
              "  <div id=\"df-2a1a7926-0ede-4bdd-998a-fb932d6ca02c\">\n",
              "    <div class=\"colab-df-container\">\n",
              "      <div>\n",
              "<style scoped>\n",
              "    .dataframe tbody tr th:only-of-type {\n",
              "        vertical-align: middle;\n",
              "    }\n",
              "\n",
              "    .dataframe tbody tr th {\n",
              "        vertical-align: top;\n",
              "    }\n",
              "\n",
              "    .dataframe thead th {\n",
              "        text-align: right;\n",
              "    }\n",
              "</style>\n",
              "<table border=\"1\" class=\"dataframe\">\n",
              "  <thead>\n",
              "    <tr style=\"text-align: right;\">\n",
              "      <th></th>\n",
              "      <th>num_reactions</th>\n",
              "      <th>num_comments</th>\n",
              "      <th>num_shares</th>\n",
              "      <th>num_likes</th>\n",
              "      <th>num_loves</th>\n",
              "      <th>num_wows</th>\n",
              "      <th>num_hahas</th>\n",
              "      <th>num_sads</th>\n",
              "      <th>num_angrys</th>\n",
              "    </tr>\n",
              "  </thead>\n",
              "  <tbody>\n",
              "    <tr>\n",
              "      <th>num_reactions</th>\n",
              "      <td>1.000000</td>\n",
              "      <td>0.150843</td>\n",
              "      <td>0.250723</td>\n",
              "      <td>0.994923</td>\n",
              "      <td>0.305003</td>\n",
              "      <td>0.267752</td>\n",
              "      <td>0.176028</td>\n",
              "      <td>0.075138</td>\n",
              "      <td>0.124326</td>\n",
              "    </tr>\n",
              "    <tr>\n",
              "      <th>num_comments</th>\n",
              "      <td>0.150843</td>\n",
              "      <td>1.000000</td>\n",
              "      <td>0.640637</td>\n",
              "      <td>0.101687</td>\n",
              "      <td>0.521223</td>\n",
              "      <td>0.162394</td>\n",
              "      <td>0.325048</td>\n",
              "      <td>0.236453</td>\n",
              "      <td>0.225184</td>\n",
              "    </tr>\n",
              "    <tr>\n",
              "      <th>num_shares</th>\n",
              "      <td>0.250723</td>\n",
              "      <td>0.640637</td>\n",
              "      <td>1.000000</td>\n",
              "      <td>0.172492</td>\n",
              "      <td>0.820000</td>\n",
              "      <td>0.407628</td>\n",
              "      <td>0.399826</td>\n",
              "      <td>0.199970</td>\n",
              "      <td>0.312513</td>\n",
              "    </tr>\n",
              "    <tr>\n",
              "      <th>num_likes</th>\n",
              "      <td>0.994923</td>\n",
              "      <td>0.101687</td>\n",
              "      <td>0.172492</td>\n",
              "      <td>1.000000</td>\n",
              "      <td>0.209308</td>\n",
              "      <td>0.207800</td>\n",
              "      <td>0.120784</td>\n",
              "      <td>0.052169</td>\n",
              "      <td>0.087431</td>\n",
              "    </tr>\n",
              "    <tr>\n",
              "      <th>num_loves</th>\n",
              "      <td>0.305003</td>\n",
              "      <td>0.521223</td>\n",
              "      <td>0.820000</td>\n",
              "      <td>0.209308</td>\n",
              "      <td>1.000000</td>\n",
              "      <td>0.508798</td>\n",
              "      <td>0.507830</td>\n",
              "      <td>0.207600</td>\n",
              "      <td>0.371001</td>\n",
              "    </tr>\n",
              "    <tr>\n",
              "      <th>num_wows</th>\n",
              "      <td>0.267752</td>\n",
              "      <td>0.162394</td>\n",
              "      <td>0.407628</td>\n",
              "      <td>0.207800</td>\n",
              "      <td>0.508798</td>\n",
              "      <td>1.000000</td>\n",
              "      <td>0.287756</td>\n",
              "      <td>0.086503</td>\n",
              "      <td>0.183087</td>\n",
              "    </tr>\n",
              "    <tr>\n",
              "      <th>num_hahas</th>\n",
              "      <td>0.176028</td>\n",
              "      <td>0.325048</td>\n",
              "      <td>0.399826</td>\n",
              "      <td>0.120784</td>\n",
              "      <td>0.507830</td>\n",
              "      <td>0.287756</td>\n",
              "      <td>1.000000</td>\n",
              "      <td>0.141421</td>\n",
              "      <td>0.211910</td>\n",
              "    </tr>\n",
              "    <tr>\n",
              "      <th>num_sads</th>\n",
              "      <td>0.075138</td>\n",
              "      <td>0.236453</td>\n",
              "      <td>0.199970</td>\n",
              "      <td>0.052169</td>\n",
              "      <td>0.207600</td>\n",
              "      <td>0.086503</td>\n",
              "      <td>0.141421</td>\n",
              "      <td>1.000000</td>\n",
              "      <td>0.142072</td>\n",
              "    </tr>\n",
              "    <tr>\n",
              "      <th>num_angrys</th>\n",
              "      <td>0.124326</td>\n",
              "      <td>0.225184</td>\n",
              "      <td>0.312513</td>\n",
              "      <td>0.087431</td>\n",
              "      <td>0.371001</td>\n",
              "      <td>0.183087</td>\n",
              "      <td>0.211910</td>\n",
              "      <td>0.142072</td>\n",
              "      <td>1.000000</td>\n",
              "    </tr>\n",
              "  </tbody>\n",
              "</table>\n",
              "</div>\n",
              "      <button class=\"colab-df-convert\" onclick=\"convertToInteractive('df-2a1a7926-0ede-4bdd-998a-fb932d6ca02c')\"\n",
              "              title=\"Convert this dataframe to an interactive table.\"\n",
              "              style=\"display:none;\">\n",
              "        \n",
              "  <svg xmlns=\"http://www.w3.org/2000/svg\" height=\"24px\"viewBox=\"0 0 24 24\"\n",
              "       width=\"24px\">\n",
              "    <path d=\"M0 0h24v24H0V0z\" fill=\"none\"/>\n",
              "    <path d=\"M18.56 5.44l.94 2.06.94-2.06 2.06-.94-2.06-.94-.94-2.06-.94 2.06-2.06.94zm-11 1L8.5 8.5l.94-2.06 2.06-.94-2.06-.94L8.5 2.5l-.94 2.06-2.06.94zm10 10l.94 2.06.94-2.06 2.06-.94-2.06-.94-.94-2.06-.94 2.06-2.06.94z\"/><path d=\"M17.41 7.96l-1.37-1.37c-.4-.4-.92-.59-1.43-.59-.52 0-1.04.2-1.43.59L10.3 9.45l-7.72 7.72c-.78.78-.78 2.05 0 2.83L4 21.41c.39.39.9.59 1.41.59.51 0 1.02-.2 1.41-.59l7.78-7.78 2.81-2.81c.8-.78.8-2.07 0-2.86zM5.41 20L4 18.59l7.72-7.72 1.47 1.35L5.41 20z\"/>\n",
              "  </svg>\n",
              "      </button>\n",
              "      \n",
              "  <style>\n",
              "    .colab-df-container {\n",
              "      display:flex;\n",
              "      flex-wrap:wrap;\n",
              "      gap: 12px;\n",
              "    }\n",
              "\n",
              "    .colab-df-convert {\n",
              "      background-color: #E8F0FE;\n",
              "      border: none;\n",
              "      border-radius: 50%;\n",
              "      cursor: pointer;\n",
              "      display: none;\n",
              "      fill: #1967D2;\n",
              "      height: 32px;\n",
              "      padding: 0 0 0 0;\n",
              "      width: 32px;\n",
              "    }\n",
              "\n",
              "    .colab-df-convert:hover {\n",
              "      background-color: #E2EBFA;\n",
              "      box-shadow: 0px 1px 2px rgba(60, 64, 67, 0.3), 0px 1px 3px 1px rgba(60, 64, 67, 0.15);\n",
              "      fill: #174EA6;\n",
              "    }\n",
              "\n",
              "    [theme=dark] .colab-df-convert {\n",
              "      background-color: #3B4455;\n",
              "      fill: #D2E3FC;\n",
              "    }\n",
              "\n",
              "    [theme=dark] .colab-df-convert:hover {\n",
              "      background-color: #434B5C;\n",
              "      box-shadow: 0px 1px 3px 1px rgba(0, 0, 0, 0.15);\n",
              "      filter: drop-shadow(0px 1px 2px rgba(0, 0, 0, 0.3));\n",
              "      fill: #FFFFFF;\n",
              "    }\n",
              "  </style>\n",
              "\n",
              "      <script>\n",
              "        const buttonEl =\n",
              "          document.querySelector('#df-2a1a7926-0ede-4bdd-998a-fb932d6ca02c button.colab-df-convert');\n",
              "        buttonEl.style.display =\n",
              "          google.colab.kernel.accessAllowed ? 'block' : 'none';\n",
              "\n",
              "        async function convertToInteractive(key) {\n",
              "          const element = document.querySelector('#df-2a1a7926-0ede-4bdd-998a-fb932d6ca02c');\n",
              "          const dataTable =\n",
              "            await google.colab.kernel.invokeFunction('convertToInteractive',\n",
              "                                                     [key], {});\n",
              "          if (!dataTable) return;\n",
              "\n",
              "          const docLinkHtml = 'Like what you see? Visit the ' +\n",
              "            '<a target=\"_blank\" href=https://colab.research.google.com/notebooks/data_table.ipynb>data table notebook</a>'\n",
              "            + ' to learn more about interactive tables.';\n",
              "          element.innerHTML = '';\n",
              "          dataTable['output_type'] = 'display_data';\n",
              "          await google.colab.output.renderOutput(dataTable, element);\n",
              "          const docLink = document.createElement('div');\n",
              "          docLink.innerHTML = docLinkHtml;\n",
              "          element.appendChild(docLink);\n",
              "        }\n",
              "      </script>\n",
              "    </div>\n",
              "  </div>\n",
              "  "
            ]
          },
          "metadata": {},
          "execution_count": 113
        }
      ]
    },
    {
      "cell_type": "markdown",
      "source": [
        "We can drop either num_reactions or num_likes as they are highly correlated. In our case we are dropping the num reactions columns."
      ],
      "metadata": {
        "id": "E0UwyEBblX_Y"
      }
    },
    {
      "cell_type": "code",
      "source": [
        "df.drop(['num_reactions'], axis=1, inplace=True)"
      ],
      "metadata": {
        "id": "0qssSj23eKdc"
      },
      "execution_count": 114,
      "outputs": []
    },
    {
      "cell_type": "code",
      "source": [
        "df.head(5)"
      ],
      "metadata": {
        "colab": {
          "base_uri": "https://localhost:8080/",
          "height": 206
        },
        "id": "CPX1uCPGl0HS",
        "outputId": "89b438a1-7012-4ca6-c0bf-ffaf194e0511"
      },
      "execution_count": 115,
      "outputs": [
        {
          "output_type": "execute_result",
          "data": {
            "text/plain": [
              "   num_comments  num_shares  num_likes  num_loves  num_wows  num_hahas  \\\n",
              "0           512         262        432         92         3          1   \n",
              "1             0           0        150          0         0          0   \n",
              "2           236          57        204         21         1          1   \n",
              "3             0           0        111          0         0          0   \n",
              "4             0           0        204          9         0          0   \n",
              "\n",
              "   num_sads  num_angrys  \n",
              "0         1           0  \n",
              "1         0           0  \n",
              "2         0           0  \n",
              "3         0           0  \n",
              "4         0           0  "
            ],
            "text/html": [
              "\n",
              "  <div id=\"df-3feed2a9-f0a3-4ea1-9307-fb25ee210bb5\">\n",
              "    <div class=\"colab-df-container\">\n",
              "      <div>\n",
              "<style scoped>\n",
              "    .dataframe tbody tr th:only-of-type {\n",
              "        vertical-align: middle;\n",
              "    }\n",
              "\n",
              "    .dataframe tbody tr th {\n",
              "        vertical-align: top;\n",
              "    }\n",
              "\n",
              "    .dataframe thead th {\n",
              "        text-align: right;\n",
              "    }\n",
              "</style>\n",
              "<table border=\"1\" class=\"dataframe\">\n",
              "  <thead>\n",
              "    <tr style=\"text-align: right;\">\n",
              "      <th></th>\n",
              "      <th>num_comments</th>\n",
              "      <th>num_shares</th>\n",
              "      <th>num_likes</th>\n",
              "      <th>num_loves</th>\n",
              "      <th>num_wows</th>\n",
              "      <th>num_hahas</th>\n",
              "      <th>num_sads</th>\n",
              "      <th>num_angrys</th>\n",
              "    </tr>\n",
              "  </thead>\n",
              "  <tbody>\n",
              "    <tr>\n",
              "      <th>0</th>\n",
              "      <td>512</td>\n",
              "      <td>262</td>\n",
              "      <td>432</td>\n",
              "      <td>92</td>\n",
              "      <td>3</td>\n",
              "      <td>1</td>\n",
              "      <td>1</td>\n",
              "      <td>0</td>\n",
              "    </tr>\n",
              "    <tr>\n",
              "      <th>1</th>\n",
              "      <td>0</td>\n",
              "      <td>0</td>\n",
              "      <td>150</td>\n",
              "      <td>0</td>\n",
              "      <td>0</td>\n",
              "      <td>0</td>\n",
              "      <td>0</td>\n",
              "      <td>0</td>\n",
              "    </tr>\n",
              "    <tr>\n",
              "      <th>2</th>\n",
              "      <td>236</td>\n",
              "      <td>57</td>\n",
              "      <td>204</td>\n",
              "      <td>21</td>\n",
              "      <td>1</td>\n",
              "      <td>1</td>\n",
              "      <td>0</td>\n",
              "      <td>0</td>\n",
              "    </tr>\n",
              "    <tr>\n",
              "      <th>3</th>\n",
              "      <td>0</td>\n",
              "      <td>0</td>\n",
              "      <td>111</td>\n",
              "      <td>0</td>\n",
              "      <td>0</td>\n",
              "      <td>0</td>\n",
              "      <td>0</td>\n",
              "      <td>0</td>\n",
              "    </tr>\n",
              "    <tr>\n",
              "      <th>4</th>\n",
              "      <td>0</td>\n",
              "      <td>0</td>\n",
              "      <td>204</td>\n",
              "      <td>9</td>\n",
              "      <td>0</td>\n",
              "      <td>0</td>\n",
              "      <td>0</td>\n",
              "      <td>0</td>\n",
              "    </tr>\n",
              "  </tbody>\n",
              "</table>\n",
              "</div>\n",
              "      <button class=\"colab-df-convert\" onclick=\"convertToInteractive('df-3feed2a9-f0a3-4ea1-9307-fb25ee210bb5')\"\n",
              "              title=\"Convert this dataframe to an interactive table.\"\n",
              "              style=\"display:none;\">\n",
              "        \n",
              "  <svg xmlns=\"http://www.w3.org/2000/svg\" height=\"24px\"viewBox=\"0 0 24 24\"\n",
              "       width=\"24px\">\n",
              "    <path d=\"M0 0h24v24H0V0z\" fill=\"none\"/>\n",
              "    <path d=\"M18.56 5.44l.94 2.06.94-2.06 2.06-.94-2.06-.94-.94-2.06-.94 2.06-2.06.94zm-11 1L8.5 8.5l.94-2.06 2.06-.94-2.06-.94L8.5 2.5l-.94 2.06-2.06.94zm10 10l.94 2.06.94-2.06 2.06-.94-2.06-.94-.94-2.06-.94 2.06-2.06.94z\"/><path d=\"M17.41 7.96l-1.37-1.37c-.4-.4-.92-.59-1.43-.59-.52 0-1.04.2-1.43.59L10.3 9.45l-7.72 7.72c-.78.78-.78 2.05 0 2.83L4 21.41c.39.39.9.59 1.41.59.51 0 1.02-.2 1.41-.59l7.78-7.78 2.81-2.81c.8-.78.8-2.07 0-2.86zM5.41 20L4 18.59l7.72-7.72 1.47 1.35L5.41 20z\"/>\n",
              "  </svg>\n",
              "      </button>\n",
              "      \n",
              "  <style>\n",
              "    .colab-df-container {\n",
              "      display:flex;\n",
              "      flex-wrap:wrap;\n",
              "      gap: 12px;\n",
              "    }\n",
              "\n",
              "    .colab-df-convert {\n",
              "      background-color: #E8F0FE;\n",
              "      border: none;\n",
              "      border-radius: 50%;\n",
              "      cursor: pointer;\n",
              "      display: none;\n",
              "      fill: #1967D2;\n",
              "      height: 32px;\n",
              "      padding: 0 0 0 0;\n",
              "      width: 32px;\n",
              "    }\n",
              "\n",
              "    .colab-df-convert:hover {\n",
              "      background-color: #E2EBFA;\n",
              "      box-shadow: 0px 1px 2px rgba(60, 64, 67, 0.3), 0px 1px 3px 1px rgba(60, 64, 67, 0.15);\n",
              "      fill: #174EA6;\n",
              "    }\n",
              "\n",
              "    [theme=dark] .colab-df-convert {\n",
              "      background-color: #3B4455;\n",
              "      fill: #D2E3FC;\n",
              "    }\n",
              "\n",
              "    [theme=dark] .colab-df-convert:hover {\n",
              "      background-color: #434B5C;\n",
              "      box-shadow: 0px 1px 3px 1px rgba(0, 0, 0, 0.15);\n",
              "      filter: drop-shadow(0px 1px 2px rgba(0, 0, 0, 0.3));\n",
              "      fill: #FFFFFF;\n",
              "    }\n",
              "  </style>\n",
              "\n",
              "      <script>\n",
              "        const buttonEl =\n",
              "          document.querySelector('#df-3feed2a9-f0a3-4ea1-9307-fb25ee210bb5 button.colab-df-convert');\n",
              "        buttonEl.style.display =\n",
              "          google.colab.kernel.accessAllowed ? 'block' : 'none';\n",
              "\n",
              "        async function convertToInteractive(key) {\n",
              "          const element = document.querySelector('#df-3feed2a9-f0a3-4ea1-9307-fb25ee210bb5');\n",
              "          const dataTable =\n",
              "            await google.colab.kernel.invokeFunction('convertToInteractive',\n",
              "                                                     [key], {});\n",
              "          if (!dataTable) return;\n",
              "\n",
              "          const docLinkHtml = 'Like what you see? Visit the ' +\n",
              "            '<a target=\"_blank\" href=https://colab.research.google.com/notebooks/data_table.ipynb>data table notebook</a>'\n",
              "            + ' to learn more about interactive tables.';\n",
              "          element.innerHTML = '';\n",
              "          dataTable['output_type'] = 'display_data';\n",
              "          await google.colab.output.renderOutput(dataTable, element);\n",
              "          const docLink = document.createElement('div');\n",
              "          docLink.innerHTML = docLinkHtml;\n",
              "          element.appendChild(docLink);\n",
              "        }\n",
              "      </script>\n",
              "    </div>\n",
              "  </div>\n",
              "  "
            ]
          },
          "metadata": {},
          "execution_count": 115
        }
      ]
    },
    {
      "cell_type": "code",
      "source": [
        "from sklearn.preprocessing import MinMaxScaler\n",
        "scaler = MinMaxScaler()\n",
        "scaled_X = scaler.fit_transform(df)"
      ],
      "metadata": {
        "id": "9e4n1MI-mDZK"
      },
      "execution_count": 116,
      "outputs": []
    },
    {
      "cell_type": "code",
      "source": [
        "scaled_data = pd.DataFrame(scaled_X, columns=[df.columns])\n",
        "scaled_data.head(5)"
      ],
      "metadata": {
        "colab": {
          "base_uri": "https://localhost:8080/",
          "height": 206
        },
        "id": "Q3v0WLfQo93a",
        "outputId": "4bf8fb40-e3be-4620-9261-04781fc11391"
      },
      "execution_count": 117,
      "outputs": [
        {
          "output_type": "execute_result",
          "data": {
            "text/plain": [
              "  num_comments num_shares num_likes num_loves  num_wows num_hahas  num_sads  \\\n",
              "0     0.024393   0.076519  0.091720  0.140030  0.010791  0.006369  0.019608   \n",
              "1     0.000000   0.000000  0.031847  0.000000  0.000000  0.000000  0.000000   \n",
              "2     0.011243   0.016647  0.043312  0.031963  0.003597  0.006369  0.000000   \n",
              "3     0.000000   0.000000  0.023567  0.000000  0.000000  0.000000  0.000000   \n",
              "4     0.000000   0.000000  0.043312  0.013699  0.000000  0.000000  0.000000   \n",
              "\n",
              "  num_angrys  \n",
              "0        0.0  \n",
              "1        0.0  \n",
              "2        0.0  \n",
              "3        0.0  \n",
              "4        0.0  "
            ],
            "text/html": [
              "\n",
              "  <div id=\"df-d0f7bf0e-8964-4fb2-abf2-f4aae5fdc19f\">\n",
              "    <div class=\"colab-df-container\">\n",
              "      <div>\n",
              "<style scoped>\n",
              "    .dataframe tbody tr th:only-of-type {\n",
              "        vertical-align: middle;\n",
              "    }\n",
              "\n",
              "    .dataframe tbody tr th {\n",
              "        vertical-align: top;\n",
              "    }\n",
              "\n",
              "    .dataframe thead tr th {\n",
              "        text-align: left;\n",
              "    }\n",
              "</style>\n",
              "<table border=\"1\" class=\"dataframe\">\n",
              "  <thead>\n",
              "    <tr>\n",
              "      <th></th>\n",
              "      <th>num_comments</th>\n",
              "      <th>num_shares</th>\n",
              "      <th>num_likes</th>\n",
              "      <th>num_loves</th>\n",
              "      <th>num_wows</th>\n",
              "      <th>num_hahas</th>\n",
              "      <th>num_sads</th>\n",
              "      <th>num_angrys</th>\n",
              "    </tr>\n",
              "  </thead>\n",
              "  <tbody>\n",
              "    <tr>\n",
              "      <th>0</th>\n",
              "      <td>0.024393</td>\n",
              "      <td>0.076519</td>\n",
              "      <td>0.091720</td>\n",
              "      <td>0.140030</td>\n",
              "      <td>0.010791</td>\n",
              "      <td>0.006369</td>\n",
              "      <td>0.019608</td>\n",
              "      <td>0.0</td>\n",
              "    </tr>\n",
              "    <tr>\n",
              "      <th>1</th>\n",
              "      <td>0.000000</td>\n",
              "      <td>0.000000</td>\n",
              "      <td>0.031847</td>\n",
              "      <td>0.000000</td>\n",
              "      <td>0.000000</td>\n",
              "      <td>0.000000</td>\n",
              "      <td>0.000000</td>\n",
              "      <td>0.0</td>\n",
              "    </tr>\n",
              "    <tr>\n",
              "      <th>2</th>\n",
              "      <td>0.011243</td>\n",
              "      <td>0.016647</td>\n",
              "      <td>0.043312</td>\n",
              "      <td>0.031963</td>\n",
              "      <td>0.003597</td>\n",
              "      <td>0.006369</td>\n",
              "      <td>0.000000</td>\n",
              "      <td>0.0</td>\n",
              "    </tr>\n",
              "    <tr>\n",
              "      <th>3</th>\n",
              "      <td>0.000000</td>\n",
              "      <td>0.000000</td>\n",
              "      <td>0.023567</td>\n",
              "      <td>0.000000</td>\n",
              "      <td>0.000000</td>\n",
              "      <td>0.000000</td>\n",
              "      <td>0.000000</td>\n",
              "      <td>0.0</td>\n",
              "    </tr>\n",
              "    <tr>\n",
              "      <th>4</th>\n",
              "      <td>0.000000</td>\n",
              "      <td>0.000000</td>\n",
              "      <td>0.043312</td>\n",
              "      <td>0.013699</td>\n",
              "      <td>0.000000</td>\n",
              "      <td>0.000000</td>\n",
              "      <td>0.000000</td>\n",
              "      <td>0.0</td>\n",
              "    </tr>\n",
              "  </tbody>\n",
              "</table>\n",
              "</div>\n",
              "      <button class=\"colab-df-convert\" onclick=\"convertToInteractive('df-d0f7bf0e-8964-4fb2-abf2-f4aae5fdc19f')\"\n",
              "              title=\"Convert this dataframe to an interactive table.\"\n",
              "              style=\"display:none;\">\n",
              "        \n",
              "  <svg xmlns=\"http://www.w3.org/2000/svg\" height=\"24px\"viewBox=\"0 0 24 24\"\n",
              "       width=\"24px\">\n",
              "    <path d=\"M0 0h24v24H0V0z\" fill=\"none\"/>\n",
              "    <path d=\"M18.56 5.44l.94 2.06.94-2.06 2.06-.94-2.06-.94-.94-2.06-.94 2.06-2.06.94zm-11 1L8.5 8.5l.94-2.06 2.06-.94-2.06-.94L8.5 2.5l-.94 2.06-2.06.94zm10 10l.94 2.06.94-2.06 2.06-.94-2.06-.94-.94-2.06-.94 2.06-2.06.94z\"/><path d=\"M17.41 7.96l-1.37-1.37c-.4-.4-.92-.59-1.43-.59-.52 0-1.04.2-1.43.59L10.3 9.45l-7.72 7.72c-.78.78-.78 2.05 0 2.83L4 21.41c.39.39.9.59 1.41.59.51 0 1.02-.2 1.41-.59l7.78-7.78 2.81-2.81c.8-.78.8-2.07 0-2.86zM5.41 20L4 18.59l7.72-7.72 1.47 1.35L5.41 20z\"/>\n",
              "  </svg>\n",
              "      </button>\n",
              "      \n",
              "  <style>\n",
              "    .colab-df-container {\n",
              "      display:flex;\n",
              "      flex-wrap:wrap;\n",
              "      gap: 12px;\n",
              "    }\n",
              "\n",
              "    .colab-df-convert {\n",
              "      background-color: #E8F0FE;\n",
              "      border: none;\n",
              "      border-radius: 50%;\n",
              "      cursor: pointer;\n",
              "      display: none;\n",
              "      fill: #1967D2;\n",
              "      height: 32px;\n",
              "      padding: 0 0 0 0;\n",
              "      width: 32px;\n",
              "    }\n",
              "\n",
              "    .colab-df-convert:hover {\n",
              "      background-color: #E2EBFA;\n",
              "      box-shadow: 0px 1px 2px rgba(60, 64, 67, 0.3), 0px 1px 3px 1px rgba(60, 64, 67, 0.15);\n",
              "      fill: #174EA6;\n",
              "    }\n",
              "\n",
              "    [theme=dark] .colab-df-convert {\n",
              "      background-color: #3B4455;\n",
              "      fill: #D2E3FC;\n",
              "    }\n",
              "\n",
              "    [theme=dark] .colab-df-convert:hover {\n",
              "      background-color: #434B5C;\n",
              "      box-shadow: 0px 1px 3px 1px rgba(0, 0, 0, 0.15);\n",
              "      filter: drop-shadow(0px 1px 2px rgba(0, 0, 0, 0.3));\n",
              "      fill: #FFFFFF;\n",
              "    }\n",
              "  </style>\n",
              "\n",
              "      <script>\n",
              "        const buttonEl =\n",
              "          document.querySelector('#df-d0f7bf0e-8964-4fb2-abf2-f4aae5fdc19f button.colab-df-convert');\n",
              "        buttonEl.style.display =\n",
              "          google.colab.kernel.accessAllowed ? 'block' : 'none';\n",
              "\n",
              "        async function convertToInteractive(key) {\n",
              "          const element = document.querySelector('#df-d0f7bf0e-8964-4fb2-abf2-f4aae5fdc19f');\n",
              "          const dataTable =\n",
              "            await google.colab.kernel.invokeFunction('convertToInteractive',\n",
              "                                                     [key], {});\n",
              "          if (!dataTable) return;\n",
              "\n",
              "          const docLinkHtml = 'Like what you see? Visit the ' +\n",
              "            '<a target=\"_blank\" href=https://colab.research.google.com/notebooks/data_table.ipynb>data table notebook</a>'\n",
              "            + ' to learn more about interactive tables.';\n",
              "          element.innerHTML = '';\n",
              "          dataTable['output_type'] = 'display_data';\n",
              "          await google.colab.output.renderOutput(dataTable, element);\n",
              "          const docLink = document.createElement('div');\n",
              "          docLink.innerHTML = docLinkHtml;\n",
              "          element.appendChild(docLink);\n",
              "        }\n",
              "      </script>\n",
              "    </div>\n",
              "  </div>\n",
              "  "
            ]
          },
          "metadata": {},
          "execution_count": 117
        }
      ]
    },
    {
      "cell_type": "code",
      "source": [
        "from sklearn.cluster import KMeans\n",
        "model = KMeans(n_clusters=2, random_state=0) \n",
        "model.fit(scaled_data)\n",
        "model.inertia_\n"
      ],
      "metadata": {
        "colab": {
          "base_uri": "https://localhost:8080/"
        },
        "id": "ZyYV0dnQpVmR",
        "outputId": "466779bb-0978-4e72-bbf6-be0599c906ef"
      },
      "execution_count": 118,
      "outputs": [
        {
          "output_type": "execute_result",
          "data": {
            "text/plain": [
              "83.3437081056008"
            ]
          },
          "metadata": {},
          "execution_count": 118
        }
      ]
    },
    {
      "cell_type": "code",
      "source": [
        "inertia = []\n",
        "\n",
        "for k in range(2,10):\n",
        "    \n",
        "    model = KMeans(n_clusters=k)\n",
        "    model.fit(scaled_data)\n",
        "    inertia.append(model.inertia_)\n",
        "\n"
      ],
      "metadata": {
        "id": "QFom5pgzpVpY"
      },
      "execution_count": 119,
      "outputs": []
    },
    {
      "cell_type": "code",
      "source": [
        "inertia"
      ],
      "metadata": {
        "colab": {
          "base_uri": "https://localhost:8080/"
        },
        "id": "yZyo6Q05sY-n",
        "outputId": "54977828-5fce-4f80-88db-0e1c85f4562d"
      },
      "execution_count": 120,
      "outputs": [
        {
          "output_type": "execute_result",
          "data": {
            "text/plain": [
              "[83.34378056229819,\n",
              " 59.20414385826563,\n",
              " 48.378273471169074,\n",
              " 42.146948487215646,\n",
              " 37.44731923875682,\n",
              " 33.94909602923243,\n",
              " 30.60060487382699,\n",
              " 28.94882870813795]"
            ]
          },
          "metadata": {},
          "execution_count": 120
        }
      ]
    },
    {
      "cell_type": "code",
      "source": [
        "plt.plot(range(2,10),inertia,'o--')\n",
        "plt.xlabel(\"K Value\")\n",
        "plt.ylabel(\"Sum of Squared Distances\")"
      ],
      "metadata": {
        "colab": {
          "base_uri": "https://localhost:8080/",
          "height": 299
        },
        "id": "BxJS2W4gpVsp",
        "outputId": "ef37a30a-2fa3-44b6-9899-bacbd67fe8c6"
      },
      "execution_count": 121,
      "outputs": [
        {
          "output_type": "execute_result",
          "data": {
            "text/plain": [
              "Text(0, 0.5, 'Sum of Squared Distances')"
            ]
          },
          "metadata": {},
          "execution_count": 121
        },
        {
          "output_type": "display_data",
          "data": {
            "text/plain": [
              "<Figure size 432x288 with 1 Axes>"
            ],
            "image/png": "[encoded data removed]"
          },
          "metadata": {}
        }
      ]
    },
    {
      "cell_type": "markdown",
      "source": [
        "From the above graph we can infer that the optimum value of K = 4.\n",
        "\n",
        "In addition to that, PCA is a technique used to reduce the dimensionality of a dataset by projecting the data onto a lower-dimensional subspace. This can be useful when working with k-means clustering, as the technique is sensitive to the scale of the data and can be computationally intensive when working with high-dimensional data. By using PCA to reduce the dimensionality of the data, the k-means algorithm can run more efficiently and may produce more meaningful clusters. Additionally, PCA can help to identify patterns in the data and highlight the most important features, which can be helpful in interpreting the resulting clusters."
      ],
      "metadata": {
        "id": "gdkekI3av9kk"
      }
    },
    {
      "cell_type": "code",
      "source": [],
      "metadata": {
        "id": "SkEsZoKmv7J6"
      },
      "execution_count": 121,
      "outputs": []
    },
    {
      "cell_type": "markdown",
      "source": [
        "## Q2 Loss Functions"
      ],
      "metadata": {
        "id": "QkifVYGZ59Hm"
      }
    },
    {
      "cell_type": "code",
      "source": [
        "actual=[0,1,0,0,1,0,0,1,1,1]\n",
        "predicted=[0.2, 0.2, 0.2, 0.2, 0.2, 0.2, 0.2, 0.2, 0.2, 0.2]\n",
        "actual2 = [-1,1,-1,-1,1,-1,-1,1,1,1] "
      ],
      "metadata": {
        "id": "P7TImkydmCmg"
      },
      "execution_count": 122,
      "outputs": []
    },
    {
      "cell_type": "markdown",
      "source": [
        "Let the desired output to 10 inputs be,\n",
        "\n",
        "> [0,1,0,0,1,0,0,1,1,1]\n",
        "\n",
        "\n",
        "and let the corresponding actual output obtained from a machine be \n",
        "\n",
        "\n",
        "> [0.2, 0.2, 0.2, 0.2, 0.2, 0.2, 0.2, 0.2, 0.2, 0.2]\n",
        "\n",
        "\n",
        "Find programmatically or by hand the loss obtained from using:\n",
        "\n",
        "1.   a symmetric 0 − 1 loss function,\n",
        "\n",
        "2.   the cross-entropy loss function and\n",
        "\n",
        "3.   the hinge loss function.\n",
        "\n",
        "If required assume a threshold of 0.5 to obtain a class from the machine output.  (sklearn by default uses 0.5 as threshold for binary classification) "
      ],
      "metadata": {
        "id": "Ea67Ngq-6AfC"
      }
    },
    {
      "cell_type": "code",
      "source": [
        "#a symmetric 0 − 1 loss function\n",
        "\n",
        "loss=[]\n",
        "count=0\n",
        "for i in range(len(actual)):\n",
        "  if predicted[i]>0.5:\n",
        "    loss.append(1)\n",
        "  else:\n",
        "    loss.append(0)\n",
        "  if loss[i]==actual[i]:\n",
        "    count+=0\n",
        "  else:\n",
        "    count+=1\n",
        "print(\"At a threshold of 0.5 the symmetric 0-1 loss is {:.2f}\".format(count/len(actual)))"
      ],
      "metadata": {
        "id": "8ZOp5wOK6AEC",
        "outputId": "431774d2-4332-4787-dcbd-0738efc65195",
        "colab": {
          "base_uri": "https://localhost:8080/"
        }
      },
      "execution_count": 123,
      "outputs": [
        {
          "output_type": "stream",
          "name": "stdout",
          "text": [
            "At a threshold of 0.5 the symmetric 0-1 loss is 0.50\n"
          ]
        }
      ]
    },
    {
      "cell_type": "code",
      "source": [
        "#cross-entropy loss function\n",
        "\n",
        "from sklearn.metrics import log_loss\n",
        "print(\"At a threshold of 0.5 the Cross-entropy loss is {:.2f}\".format(log_loss(actual,predicted)))"
      ],
      "metadata": {
        "id": "tRh5Ywffi50_",
        "colab": {
          "base_uri": "https://localhost:8080/"
        },
        "outputId": "20f9abf5-f3c2-45c8-d068-6cbd98513779"
      },
      "execution_count": 124,
      "outputs": [
        {
          "output_type": "stream",
          "name": "stdout",
          "text": [
            "At a threshold of 0.5 the Cross-entropy loss is 0.92\n"
          ]
        }
      ]
    },
    {
      "cell_type": "code",
      "source": [
        "#Hinge loss\n",
        "loss=0\n",
        "for i in range(len(predicted)):\n",
        "    loss+=max(0,1-actual2[i]*predicted[i])\n",
        "\n",
        "print(\"At a threshold of 0.5 the hinge loss is {:.2f}\".format(loss/len(actual2)))"
      ],
      "metadata": {
        "colab": {
          "base_uri": "https://localhost:8080/"
        },
        "id": "CTKaREC4zgVO",
        "outputId": "25d1f5c5-f552-4135-f34d-fd8eb5717bb2"
      },
      "execution_count": 125,
      "outputs": [
        {
          "output_type": "stream",
          "name": "stdout",
          "text": [
            "At a threshold of 0.5 the hinge loss is 1.00\n"
          ]
        }
      ]
    }
  ]
}