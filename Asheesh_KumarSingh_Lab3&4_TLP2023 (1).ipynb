{
  "nbformat": 4,
  "nbformat_minor": 0,
  "metadata": {
    "colab": {
      "provenance": []
    },
    "kernelspec": {
      "name": "python3",
      "display_name": "Python 3"
    },
    "language_info": {
      "name": "python"
    }
  },
  "cells": [
    {
      "cell_type": "markdown",
      "source": [
        "## Q1. Housing Price (SVM/SVC)"
      ],
      "metadata": {
        "id": "fgvWFzN_XwWj"
      }
    },
    {
      "cell_type": "code",
      "source": [
        "import numpy as np\n",
        "import pandas as pd"
      ],
      "metadata": {
        "id": "gRhDXyL--Z4J"
      },
      "execution_count": 219,
      "outputs": []
    },
    {
      "cell_type": "markdown",
      "source": [
        "#### Load and Explore the Data\n",
        "\n",
        "*   Think about standardizing the data.\n",
        "\n",
        "*  How would you replace discrete attributes\n"
      ],
      "metadata": {
        "id": "HUdNSpZTX53n"
      }
    },
    {
      "cell_type": "code",
      "source": [
        "from sklearn.preprocessing import StandardScaler\n",
        "df = pd.read_csv(\"lab3_data.csv\")\n",
        "\n",
        "X = df.iloc[:,:-1]\n",
        "y = df.iloc[:, -1:]\n",
        "X"
      ],
      "metadata": {
        "id": "Qg7N_4M3XuSX",
        "colab": {
          "base_uri": "https://localhost:8080/",
          "height": 424
        },
        "outputId": "04dc2fa9-be7f-43e8-c572-c3606253fa46"
      },
      "execution_count": 220,
      "outputs": [
        {
          "output_type": "execute_result",
          "data": {
            "text/plain": [
              "     area   land  year      price\n",
              "0    2607   1200  2010   825000.0\n",
              "1    1950   1783  1899  1685000.0\n",
              "2    2520   1875  1899  1100000.0\n",
              "3    3750   3125  1931  1200000.0\n",
              "4    7812   5021  1908  1900000.0\n",
              "..    ...    ...   ...        ...\n",
              "89   4500   4550  1920  3725000.0\n",
              "90  12164  45767  1956  5567760.0\n",
              "91  15707  15707  1966  7830000.0\n",
              "92   5203   4163  1900  3294000.0\n",
              "93   3920   1700  2005  3300000.0\n",
              "\n",
              "[94 rows x 4 columns]"
            ],
            "text/html": [
              "\n",
              "  <div id=\"df-d3bf33ba-7c80-4e07-8907-b612dfc64579\">\n",
              "    <div class=\"colab-df-container\">\n",
              "      <div>\n",
              "<style scoped>\n",
              "    .dataframe tbody tr th:only-of-type {\n",
              "        vertical-align: middle;\n",
              "    }\n",
              "\n",
              "    .dataframe tbody tr th {\n",
              "        vertical-align: top;\n",
              "    }\n",
              "\n",
              "    .dataframe thead th {\n",
              "        text-align: right;\n",
              "    }\n",
              "</style>\n",
              "<table border=\"1\" class=\"dataframe\">\n",
              "  <thead>\n",
              "    <tr style=\"text-align: right;\">\n",
              "      <th></th>\n",
              "      <th>area</th>\n",
              "      <th>land</th>\n",
              "      <th>year</th>\n",
              "      <th>price</th>\n",
              "    </tr>\n",
              "  </thead>\n",
              "  <tbody>\n",
              "    <tr>\n",
              "      <th>0</th>\n",
              "      <td>2607</td>\n",
              "      <td>1200</td>\n",
              "      <td>2010</td>\n",
              "      <td>825000.0</td>\n",
              "    </tr>\n",
              "    <tr>\n",
              "      <th>1</th>\n",
              "      <td>1950</td>\n",
              "      <td>1783</td>\n",
              "      <td>1899</td>\n",
              "      <td>1685000.0</td>\n",
              "    </tr>\n",
              "    <tr>\n",
              "      <th>2</th>\n",
              "      <td>2520</td>\n",
              "      <td>1875</td>\n",
              "      <td>1899</td>\n",
              "      <td>1100000.0</td>\n",
              "    </tr>\n",
              "    <tr>\n",
              "      <th>3</th>\n",
              "      <td>3750</td>\n",
              "      <td>3125</td>\n",
              "      <td>1931</td>\n",
              "      <td>1200000.0</td>\n",
              "    </tr>\n",
              "    <tr>\n",
              "      <th>4</th>\n",
              "      <td>7812</td>\n",
              "      <td>5021</td>\n",
              "      <td>1908</td>\n",
              "      <td>1900000.0</td>\n",
              "    </tr>\n",
              "    <tr>\n",
              "      <th>...</th>\n",
              "      <td>...</td>\n",
              "      <td>...</td>\n",
              "      <td>...</td>\n",
              "      <td>...</td>\n",
              "    </tr>\n",
              "    <tr>\n",
              "      <th>89</th>\n",
              "      <td>4500</td>\n",
              "      <td>4550</td>\n",
              "      <td>1920</td>\n",
              "      <td>3725000.0</td>\n",
              "    </tr>\n",
              "    <tr>\n",
              "      <th>90</th>\n",
              "      <td>12164</td>\n",
              "      <td>45767</td>\n",
              "      <td>1956</td>\n",
              "      <td>5567760.0</td>\n",
              "    </tr>\n",
              "    <tr>\n",
              "      <th>91</th>\n",
              "      <td>15707</td>\n",
              "      <td>15707</td>\n",
              "      <td>1966</td>\n",
              "      <td>7830000.0</td>\n",
              "    </tr>\n",
              "    <tr>\n",
              "      <th>92</th>\n",
              "      <td>5203</td>\n",
              "      <td>4163</td>\n",
              "      <td>1900</td>\n",
              "      <td>3294000.0</td>\n",
              "    </tr>\n",
              "    <tr>\n",
              "      <th>93</th>\n",
              "      <td>3920</td>\n",
              "      <td>1700</td>\n",
              "      <td>2005</td>\n",
              "      <td>3300000.0</td>\n",
              "    </tr>\n",
              "  </tbody>\n",
              "</table>\n",
              "<p>94 rows × 4 columns</p>\n",
              "</div>\n",
              "      <button class=\"colab-df-convert\" onclick=\"convertToInteractive('df-d3bf33ba-7c80-4e07-8907-b612dfc64579')\"\n",
              "              title=\"Convert this dataframe to an interactive table.\"\n",
              "              style=\"display:none;\">\n",
              "        \n",
              "  <svg xmlns=\"http://www.w3.org/2000/svg\" height=\"24px\"viewBox=\"0 0 24 24\"\n",
              "       width=\"24px\">\n",
              "    <path d=\"M0 0h24v24H0V0z\" fill=\"none\"/>\n",
              "    <path d=\"M18.56 5.44l.94 2.06.94-2.06 2.06-.94-2.06-.94-.94-2.06-.94 2.06-2.06.94zm-11 1L8.5 8.5l.94-2.06 2.06-.94-2.06-.94L8.5 2.5l-.94 2.06-2.06.94zm10 10l.94 2.06.94-2.06 2.06-.94-2.06-.94-.94-2.06-.94 2.06-2.06.94z\"/><path d=\"M17.41 7.96l-1.37-1.37c-.4-.4-.92-.59-1.43-.59-.52 0-1.04.2-1.43.59L10.3 9.45l-7.72 7.72c-.78.78-.78 2.05 0 2.83L4 21.41c.39.39.9.59 1.41.59.51 0 1.02-.2 1.41-.59l7.78-7.78 2.81-2.81c.8-.78.8-2.07 0-2.86zM5.41 20L4 18.59l7.72-7.72 1.47 1.35L5.41 20z\"/>\n",
              "  </svg>\n",
              "      </button>\n",
              "      \n",
              "  <style>\n",
              "    .colab-df-container {\n",
              "      display:flex;\n",
              "      flex-wrap:wrap;\n",
              "      gap: 12px;\n",
              "    }\n",
              "\n",
              "    .colab-df-convert {\n",
              "      background-color: #E8F0FE;\n",
              "      border: none;\n",
              "      border-radius: 50%;\n",
              "      cursor: pointer;\n",
              "      display: none;\n",
              "      fill: #1967D2;\n",
              "      height: 32px;\n",
              "      padding: 0 0 0 0;\n",
              "      width: 32px;\n",
              "    }\n",
              "\n",
              "    .colab-df-convert:hover {\n",
              "      background-color: #E2EBFA;\n",
              "      box-shadow: 0px 1px 2px rgba(60, 64, 67, 0.3), 0px 1px 3px 1px rgba(60, 64, 67, 0.15);\n",
              "      fill: #174EA6;\n",
              "    }\n",
              "\n",
              "    [theme=dark] .colab-df-convert {\n",
              "      background-color: #3B4455;\n",
              "      fill: #D2E3FC;\n",
              "    }\n",
              "\n",
              "    [theme=dark] .colab-df-convert:hover {\n",
              "      background-color: #434B5C;\n",
              "      box-shadow: 0px 1px 3px 1px rgba(0, 0, 0, 0.15);\n",
              "      filter: drop-shadow(0px 1px 2px rgba(0, 0, 0, 0.3));\n",
              "      fill: #FFFFFF;\n",
              "    }\n",
              "  </style>\n",
              "\n",
              "      <script>\n",
              "        const buttonEl =\n",
              "          document.querySelector('#df-d3bf33ba-7c80-4e07-8907-b612dfc64579 button.colab-df-convert');\n",
              "        buttonEl.style.display =\n",
              "          google.colab.kernel.accessAllowed ? 'block' : 'none';\n",
              "\n",
              "        async function convertToInteractive(key) {\n",
              "          const element = document.querySelector('#df-d3bf33ba-7c80-4e07-8907-b612dfc64579');\n",
              "          const dataTable =\n",
              "            await google.colab.kernel.invokeFunction('convertToInteractive',\n",
              "                                                     [key], {});\n",
              "          if (!dataTable) return;\n",
              "\n",
              "          const docLinkHtml = 'Like what you see? Visit the ' +\n",
              "            '<a target=\"_blank\" href=https://colab.research.google.com/notebooks/data_table.ipynb>data table notebook</a>'\n",
              "            + ' to learn more about interactive tables.';\n",
              "          element.innerHTML = '';\n",
              "          dataTable['output_type'] = 'display_data';\n",
              "          await google.colab.output.renderOutput(dataTable, element);\n",
              "          const docLink = document.createElement('div');\n",
              "          docLink.innerHTML = docLinkHtml;\n",
              "          element.appendChild(docLink);\n",
              "        }\n",
              "      </script>\n",
              "    </div>\n",
              "  </div>\n",
              "  "
            ]
          },
          "metadata": {},
          "execution_count": 220
        }
      ]
    },
    {
      "cell_type": "markdown",
      "source": [
        "#### Train-Test Splot 80/20"
      ],
      "metadata": {
        "id": "I0vqLxt0YX1t"
      }
    },
    {
      "cell_type": "code",
      "execution_count": 221,
      "metadata": {
        "id": "ze5R64pUXfgh"
      },
      "outputs": [],
      "source": [
        "from sklearn.model_selection import train_test_split, cross_val_score\n",
        "X_train, X_test, y_train, y_test = train_test_split(X, y, test_size=0.2, random_state=42)"
      ]
    },
    {
      "cell_type": "code",
      "source": [],
      "metadata": {
        "id": "k4TUmb73GhJ9"
      },
      "execution_count": 221,
      "outputs": []
    },
    {
      "cell_type": "code",
      "source": [
        "scale = StandardScaler()\n",
        "trans_X_train = scale.fit_transform(X_train)\n",
        "trans_X_test = scale.fit_transform(X_test)"
      ],
      "metadata": {
        "id": "H9EZ0K1tFW5G"
      },
      "execution_count": 222,
      "outputs": []
    },
    {
      "cell_type": "code",
      "source": [
        "# nb = GaussianNB()\n",
        "# nb.fit(trans_X_train,y_train)\n",
        "# nb.score(trans_X_test, y_test)"
      ],
      "metadata": {
        "id": "lg7DStsPGu9S"
      },
      "execution_count": 223,
      "outputs": []
    },
    {
      "cell_type": "markdown",
      "source": [
        "#### Train a linear model with soft margin\n",
        "\n",
        "\n",
        "\n",
        "*   Try with initial value of C=1\n",
        "\n"
      ],
      "metadata": {
        "id": "5MC7mAvEYi77"
      }
    },
    {
      "cell_type": "code",
      "source": [
        "from sklearn.svm import SVC\n",
        "model = SVC(C=1 , kernel=\"linear\")\n",
        "model.fit(trans_X_train,y_train)\n",
        "model.score(trans_X_test,y_test)"
      ],
      "metadata": {
        "id": "g1Y4XOosYw1W",
        "colab": {
          "base_uri": "https://localhost:8080/"
        },
        "outputId": "9b56d616-ed6b-497d-cd15-5da96ea79dae"
      },
      "execution_count": 224,
      "outputs": [
        {
          "output_type": "stream",
          "name": "stderr",
          "text": [
            "/usr/local/lib/python3.8/dist-packages/sklearn/utils/validation.py:993: DataConversionWarning: A column-vector y was passed when a 1d array was expected. Please change the shape of y to (n_samples, ), for example using ravel().\n",
            "  y = column_or_1d(y, warn=True)\n"
          ]
        },
        {
          "output_type": "execute_result",
          "data": {
            "text/plain": [
              "1.0"
            ]
          },
          "metadata": {},
          "execution_count": 224
        }
      ]
    },
    {
      "cell_type": "markdown",
      "source": [
        "#### Use cross validation to find best value of C\n",
        "\n",
        "\n",
        "\n",
        "*   Can do it manually or use GridSearchCV\n",
        "\n",
        "*   Divide the training set into train+validation\n",
        "\n"
      ],
      "metadata": {
        "id": "n4Crsr5tYxgZ"
      }
    },
    {
      "cell_type": "code",
      "source": [
        "from sklearn.model_selection import GridSearchCV\n",
        "s = np.linspace(1,10,300)\n",
        "params = {'C' : s}\n",
        "model1 = SVC(kernel=\"linear\")\n",
        "\n",
        "#Dividing the train data into training + validation \n",
        "clf = GridSearchCV(model1, params, cv = 5)\n",
        "clf.fit(trans_X_train, np.ravel(y_train, order='C'))\n",
        "\n",
        "print(\"The value for C :\",clf.best_params_)\n",
        "\n",
        "print(\"The cross validated mean score for C=\",clf.best_params_,\"is\",clf.best_score_)"
      ],
      "metadata": {
        "id": "gvdhwf8-ZESy",
        "colab": {
          "base_uri": "https://localhost:8080/"
        },
        "outputId": "3c2dbd43-8ed5-482b-83b6-e764d25eb801"
      },
      "execution_count": 225,
      "outputs": [
        {
          "output_type": "stream",
          "name": "stdout",
          "text": [
            "The value for C : {'C': 4.882943143812709}\n",
            "The cross validated mean score for C= {'C': 4.882943143812709} is 0.9066666666666666\n"
          ]
        }
      ]
    },
    {
      "cell_type": "code",
      "source": [
        "# #Also writing an alternative code to get the validation accuracy\n",
        "# #Does the same thing as GridSearchCV\n",
        "# from sklearn.model_selection import cross_val_score\n",
        "# alpha = np.linspace(1,10, 100)\n",
        "# score_list = []\n",
        "# for i in alpha:\n",
        "#   svm = SVC(C=i, kernel = 'linear')\n",
        "#   scores = cross_val_score(svm, trans_X_train, np.ravel(y_train, order='C'), cv=5)\n",
        "#   score_list.append(scores.mean())\n",
        "\n",
        "# max_index = score_list.index(max(score_list))\n",
        "# best_value = alpha[max_index]"
      ],
      "metadata": {
        "id": "HRo_xxN0tXLu"
      },
      "execution_count": 226,
      "outputs": []
    },
    {
      "cell_type": "code",
      "source": [
        "print(\"The train accuracy is :\", clf.score(trans_X_train, y_train))"
      ],
      "metadata": {
        "colab": {
          "base_uri": "https://localhost:8080/"
        },
        "id": "UAQSjeF66tA9",
        "outputId": "cef7cd19-bb35-4ae1-95fd-78992ae861a1"
      },
      "execution_count": 227,
      "outputs": [
        {
          "output_type": "stream",
          "name": "stdout",
          "text": [
            "The train accuracy is : 0.9066666666666666\n"
          ]
        }
      ]
    },
    {
      "cell_type": "markdown",
      "source": [
        "#### Analyse accuracy basis the new values you have computed"
      ],
      "metadata": {
        "id": "QnoFPiELZH95"
      }
    },
    {
      "cell_type": "code",
      "source": [
        "print(\"The test accuracy is :\", clf.score(trans_X_test, y_test))"
      ],
      "metadata": {
        "id": "k-xThyb7ZL58",
        "colab": {
          "base_uri": "https://localhost:8080/"
        },
        "outputId": "efa789c4-6c31-4a36-df63-a0440c119c60"
      },
      "execution_count": 228,
      "outputs": [
        {
          "output_type": "stream",
          "name": "stdout",
          "text": [
            "The test accuracy is : 1.0\n"
          ]
        }
      ]
    },
    {
      "cell_type": "markdown",
      "source": [
        "## Q2. DT and RF"
      ],
      "metadata": {
        "id": "Rv6fi6bzZOfk"
      }
    },
    {
      "cell_type": "markdown",
      "source": [
        "Consider the Wisconsin Breast Cancer dataset available from\n",
        "http://archive.ics.uci.edu/ml/datasets/Breast+Cancer+Wisconsin+\n",
        "(Diagnostic)\n",
        "\n",
        "The dataset has 32 attributes that predict malignancy. There are a\n",
        "total of 569 data patterns. Use 5-fold cross-validation. \n",
        "\n",
        "\n",
        "1.   Use Keras or any other framework to construct a decision tree from the training data and obtain the performance on the test data\n",
        "\n",
        "2.   Construct a random forest (of say, 100 trees) from the training data and use the random forest to obtain the performance on the test data\n",
        "\n",
        "3. Compare the performance you obtain in 1 and 2\n"
      ],
      "metadata": {
        "id": "vckl9zaSaFkr"
      }
    },
    {
      "cell_type": "code",
      "source": [
        "bc = pd.read_csv(\"data.csv\", index_col = 0)\n",
        "bc = bc.iloc[:, :-1]\n",
        "bc"
      ],
      "metadata": {
        "id": "aIti5UQnZRA5",
        "colab": {
          "base_uri": "https://localhost:8080/",
          "height": 536
        },
        "outputId": "1814f8fe-af15-4cb0-bce7-d44237d8ad65"
      },
      "execution_count": 229,
      "outputs": [
        {
          "output_type": "execute_result",
          "data": {
            "text/plain": [
              "         diagnosis  radius_mean  texture_mean  perimeter_mean  area_mean  \\\n",
              "id                                                                         \n",
              "842302           M        17.99         10.38          122.80     1001.0   \n",
              "842517           M        20.57         17.77          132.90     1326.0   \n",
              "84300903         M        19.69         21.25          130.00     1203.0   \n",
              "84348301         M        11.42         20.38           77.58      386.1   \n",
              "84358402         M        20.29         14.34          135.10     1297.0   \n",
              "...            ...          ...           ...             ...        ...   \n",
              "926424           M        21.56         22.39          142.00     1479.0   \n",
              "926682           M        20.13         28.25          131.20     1261.0   \n",
              "926954           M        16.60         28.08          108.30      858.1   \n",
              "927241           M        20.60         29.33          140.10     1265.0   \n",
              "92751            B         7.76         24.54           47.92      181.0   \n",
              "\n",
              "          smoothness_mean  compactness_mean  concavity_mean  \\\n",
              "id                                                            \n",
              "842302            0.11840           0.27760         0.30010   \n",
              "842517            0.08474           0.07864         0.08690   \n",
              "84300903          0.10960           0.15990         0.19740   \n",
              "84348301          0.14250           0.28390         0.24140   \n",
              "84358402          0.10030           0.13280         0.19800   \n",
              "...                   ...               ...             ...   \n",
              "926424            0.11100           0.11590         0.24390   \n",
              "926682            0.09780           0.10340         0.14400   \n",
              "926954            0.08455           0.10230         0.09251   \n",
              "927241            0.11780           0.27700         0.35140   \n",
              "92751             0.05263           0.04362         0.00000   \n",
              "\n",
              "          concave points_mean  symmetry_mean  ...  radius_worst  \\\n",
              "id                                            ...                 \n",
              "842302                0.14710         0.2419  ...        25.380   \n",
              "842517                0.07017         0.1812  ...        24.990   \n",
              "84300903              0.12790         0.2069  ...        23.570   \n",
              "84348301              0.10520         0.2597  ...        14.910   \n",
              "84358402              0.10430         0.1809  ...        22.540   \n",
              "...                       ...            ...  ...           ...   \n",
              "926424                0.13890         0.1726  ...        25.450   \n",
              "926682                0.09791         0.1752  ...        23.690   \n",
              "926954                0.05302         0.1590  ...        18.980   \n",
              "927241                0.15200         0.2397  ...        25.740   \n",
              "92751                 0.00000         0.1587  ...         9.456   \n",
              "\n",
              "          texture_worst  perimeter_worst  area_worst  smoothness_worst  \\\n",
              "id                                                                       \n",
              "842302            17.33           184.60      2019.0           0.16220   \n",
              "842517            23.41           158.80      1956.0           0.12380   \n",
              "84300903          25.53           152.50      1709.0           0.14440   \n",
              "84348301          26.50            98.87       567.7           0.20980   \n",
              "84358402          16.67           152.20      1575.0           0.13740   \n",
              "...                 ...              ...         ...               ...   \n",
              "926424            26.40           166.10      2027.0           0.14100   \n",
              "926682            38.25           155.00      1731.0           0.11660   \n",
              "926954            34.12           126.70      1124.0           0.11390   \n",
              "927241            39.42           184.60      1821.0           0.16500   \n",
              "92751             30.37            59.16       268.6           0.08996   \n",
              "\n",
              "          compactness_worst  concavity_worst  concave points_worst  \\\n",
              "id                                                                   \n",
              "842302              0.66560           0.7119                0.2654   \n",
              "842517              0.18660           0.2416                0.1860   \n",
              "84300903            0.42450           0.4504                0.2430   \n",
              "84348301            0.86630           0.6869                0.2575   \n",
              "84358402            0.20500           0.4000                0.1625   \n",
              "...                     ...              ...                   ...   \n",
              "926424              0.21130           0.4107                0.2216   \n",
              "926682              0.19220           0.3215                0.1628   \n",
              "926954              0.30940           0.3403                0.1418   \n",
              "927241              0.86810           0.9387                0.2650   \n",
              "92751               0.06444           0.0000                0.0000   \n",
              "\n",
              "          symmetry_worst  fractal_dimension_worst  \n",
              "id                                                 \n",
              "842302            0.4601                  0.11890  \n",
              "842517            0.2750                  0.08902  \n",
              "84300903          0.3613                  0.08758  \n",
              "84348301          0.6638                  0.17300  \n",
              "84358402          0.2364                  0.07678  \n",
              "...                  ...                      ...  \n",
              "926424            0.2060                  0.07115  \n",
              "926682            0.2572                  0.06637  \n",
              "926954            0.2218                  0.07820  \n",
              "927241            0.4087                  0.12400  \n",
              "92751             0.2871                  0.07039  \n",
              "\n",
              "[569 rows x 31 columns]"
            ],
            "text/html": [
              "\n",
              "  <div id=\"df-54225321-6553-4993-a176-06a20620b42c\">\n",
              "    <div class=\"colab-df-container\">\n",
              "      <div>\n",
              "<style scoped>\n",
              "    .dataframe tbody tr th:only-of-type {\n",
              "        vertical-align: middle;\n",
              "    }\n",
              "\n",
              "    .dataframe tbody tr th {\n",
              "        vertical-align: top;\n",
              "    }\n",
              "\n",
              "    .dataframe thead th {\n",
              "        text-align: right;\n",
              "    }\n",
              "</style>\n",
              "<table border=\"1\" class=\"dataframe\">\n",
              "  <thead>\n",
              "    <tr style=\"text-align: right;\">\n",
              "      <th></th>\n",
              "      <th>diagnosis</th>\n",
              "      <th>radius_mean</th>\n",
              "      <th>texture_mean</th>\n",
              "      <th>perimeter_mean</th>\n",
              "      <th>area_mean</th>\n",
              "      <th>smoothness_mean</th>\n",
              "      <th>compactness_mean</th>\n",
              "      <th>concavity_mean</th>\n",
              "      <th>concave points_mean</th>\n",
              "      <th>symmetry_mean</th>\n",
              "      <th>...</th>\n",
              "      <th>radius_worst</th>\n",
              "      <th>texture_worst</th>\n",
              "      <th>perimeter_worst</th>\n",
              "      <th>area_worst</th>\n",
              "      <th>smoothness_worst</th>\n",
              "      <th>compactness_worst</th>\n",
              "      <th>concavity_worst</th>\n",
              "      <th>concave points_worst</th>\n",
              "      <th>symmetry_worst</th>\n",
              "      <th>fractal_dimension_worst</th>\n",
              "    </tr>\n",
              "    <tr>\n",
              "      <th>id</th>\n",
              "      <th></th>\n",
              "      <th></th>\n",
              "      <th></th>\n",
              "      <th></th>\n",
              "      <th></th>\n",
              "      <th></th>\n",
              "      <th></th>\n",
              "      <th></th>\n",
              "      <th></th>\n",
              "      <th></th>\n",
              "      <th></th>\n",
              "      <th></th>\n",
              "      <th></th>\n",
              "      <th></th>\n",
              "      <th></th>\n",
              "      <th></th>\n",
              "      <th></th>\n",
              "      <th></th>\n",
              "      <th></th>\n",
              "      <th></th>\n",
              "      <th></th>\n",
              "    </tr>\n",
              "  </thead>\n",
              "  <tbody>\n",
              "    <tr>\n",
              "      <th>842302</th>\n",
              "      <td>M</td>\n",
              "      <td>17.99</td>\n",
              "      <td>10.38</td>\n",
              "      <td>122.80</td>\n",
              "      <td>1001.0</td>\n",
              "      <td>0.11840</td>\n",
              "      <td>0.27760</td>\n",
              "      <td>0.30010</td>\n",
              "      <td>0.14710</td>\n",
              "      <td>0.2419</td>\n",
              "      <td>...</td>\n",
              "      <td>25.380</td>\n",
              "      <td>17.33</td>\n",
              "      <td>184.60</td>\n",
              "      <td>2019.0</td>\n",
              "      <td>0.16220</td>\n",
              "      <td>0.66560</td>\n",
              "      <td>0.7119</td>\n",
              "      <td>0.2654</td>\n",
              "      <td>0.4601</td>\n",
              "      <td>0.11890</td>\n",
              "    </tr>\n",
              "    <tr>\n",
              "      <th>842517</th>\n",
              "      <td>M</td>\n",
              "      <td>20.57</td>\n",
              "      <td>17.77</td>\n",
              "      <td>132.90</td>\n",
              "      <td>1326.0</td>\n",
              "      <td>0.08474</td>\n",
              "      <td>0.07864</td>\n",
              "      <td>0.08690</td>\n",
              "      <td>0.07017</td>\n",
              "      <td>0.1812</td>\n",
              "      <td>...</td>\n",
              "      <td>24.990</td>\n",
              "      <td>23.41</td>\n",
              "      <td>158.80</td>\n",
              "      <td>1956.0</td>\n",
              "      <td>0.12380</td>\n",
              "      <td>0.18660</td>\n",
              "      <td>0.2416</td>\n",
              "      <td>0.1860</td>\n",
              "      <td>0.2750</td>\n",
              "      <td>0.08902</td>\n",
              "    </tr>\n",
              "    <tr>\n",
              "      <th>84300903</th>\n",
              "      <td>M</td>\n",
              "      <td>19.69</td>\n",
              "      <td>21.25</td>\n",
              "      <td>130.00</td>\n",
              "      <td>1203.0</td>\n",
              "      <td>0.10960</td>\n",
              "      <td>0.15990</td>\n",
              "      <td>0.19740</td>\n",
              "      <td>0.12790</td>\n",
              "      <td>0.2069</td>\n",
              "      <td>...</td>\n",
              "      <td>23.570</td>\n",
              "      <td>25.53</td>\n",
              "      <td>152.50</td>\n",
              "      <td>1709.0</td>\n",
              "      <td>0.14440</td>\n",
              "      <td>0.42450</td>\n",
              "      <td>0.4504</td>\n",
              "      <td>0.2430</td>\n",
              "      <td>0.3613</td>\n",
              "      <td>0.08758</td>\n",
              "    </tr>\n",
              "    <tr>\n",
              "      <th>84348301</th>\n",
              "      <td>M</td>\n",
              "      <td>11.42</td>\n",
              "      <td>20.38</td>\n",
              "      <td>77.58</td>\n",
              "      <td>386.1</td>\n",
              "      <td>0.14250</td>\n",
              "      <td>0.28390</td>\n",
              "      <td>0.24140</td>\n",
              "      <td>0.10520</td>\n",
              "      <td>0.2597</td>\n",
              "      <td>...</td>\n",
              "      <td>14.910</td>\n",
              "      <td>26.50</td>\n",
              "      <td>98.87</td>\n",
              "      <td>567.7</td>\n",
              "      <td>0.20980</td>\n",
              "      <td>0.86630</td>\n",
              "      <td>0.6869</td>\n",
              "      <td>0.2575</td>\n",
              "      <td>0.6638</td>\n",
              "      <td>0.17300</td>\n",
              "    </tr>\n",
              "    <tr>\n",
              "      <th>84358402</th>\n",
              "      <td>M</td>\n",
              "      <td>20.29</td>\n",
              "      <td>14.34</td>\n",
              "      <td>135.10</td>\n",
              "      <td>1297.0</td>\n",
              "      <td>0.10030</td>\n",
              "      <td>0.13280</td>\n",
              "      <td>0.19800</td>\n",
              "      <td>0.10430</td>\n",
              "      <td>0.1809</td>\n",
              "      <td>...</td>\n",
              "      <td>22.540</td>\n",
              "      <td>16.67</td>\n",
              "      <td>152.20</td>\n",
              "      <td>1575.0</td>\n",
              "      <td>0.13740</td>\n",
              "      <td>0.20500</td>\n",
              "      <td>0.4000</td>\n",
              "      <td>0.1625</td>\n",
              "      <td>0.2364</td>\n",
              "      <td>0.07678</td>\n",
              "    </tr>\n",
              "    <tr>\n",
              "      <th>...</th>\n",
              "      <td>...</td>\n",
              "      <td>...</td>\n",
              "      <td>...</td>\n",
              "      <td>...</td>\n",
              "      <td>...</td>\n",
              "      <td>...</td>\n",
              "      <td>...</td>\n",
              "      <td>...</td>\n",
              "      <td>...</td>\n",
              "      <td>...</td>\n",
              "      <td>...</td>\n",
              "      <td>...</td>\n",
              "      <td>...</td>\n",
              "      <td>...</td>\n",
              "      <td>...</td>\n",
              "      <td>...</td>\n",
              "      <td>...</td>\n",
              "      <td>...</td>\n",
              "      <td>...</td>\n",
              "      <td>...</td>\n",
              "      <td>...</td>\n",
              "    </tr>\n",
              "    <tr>\n",
              "      <th>926424</th>\n",
              "      <td>M</td>\n",
              "      <td>21.56</td>\n",
              "      <td>22.39</td>\n",
              "      <td>142.00</td>\n",
              "      <td>1479.0</td>\n",
              "      <td>0.11100</td>\n",
              "      <td>0.11590</td>\n",
              "      <td>0.24390</td>\n",
              "      <td>0.13890</td>\n",
              "      <td>0.1726</td>\n",
              "      <td>...</td>\n",
              "      <td>25.450</td>\n",
              "      <td>26.40</td>\n",
              "      <td>166.10</td>\n",
              "      <td>2027.0</td>\n",
              "      <td>0.14100</td>\n",
              "      <td>0.21130</td>\n",
              "      <td>0.4107</td>\n",
              "      <td>0.2216</td>\n",
              "      <td>0.2060</td>\n",
              "      <td>0.07115</td>\n",
              "    </tr>\n",
              "    <tr>\n",
              "      <th>926682</th>\n",
              "      <td>M</td>\n",
              "      <td>20.13</td>\n",
              "      <td>28.25</td>\n",
              "      <td>131.20</td>\n",
              "      <td>1261.0</td>\n",
              "      <td>0.09780</td>\n",
              "      <td>0.10340</td>\n",
              "      <td>0.14400</td>\n",
              "      <td>0.09791</td>\n",
              "      <td>0.1752</td>\n",
              "      <td>...</td>\n",
              "      <td>23.690</td>\n",
              "      <td>38.25</td>\n",
              "      <td>155.00</td>\n",
              "      <td>1731.0</td>\n",
              "      <td>0.11660</td>\n",
              "      <td>0.19220</td>\n",
              "      <td>0.3215</td>\n",
              "      <td>0.1628</td>\n",
              "      <td>0.2572</td>\n",
              "      <td>0.06637</td>\n",
              "    </tr>\n",
              "    <tr>\n",
              "      <th>926954</th>\n",
              "      <td>M</td>\n",
              "      <td>16.60</td>\n",
              "      <td>28.08</td>\n",
              "      <td>108.30</td>\n",
              "      <td>858.1</td>\n",
              "      <td>0.08455</td>\n",
              "      <td>0.10230</td>\n",
              "      <td>0.09251</td>\n",
              "      <td>0.05302</td>\n",
              "      <td>0.1590</td>\n",
              "      <td>...</td>\n",
              "      <td>18.980</td>\n",
              "      <td>34.12</td>\n",
              "      <td>126.70</td>\n",
              "      <td>1124.0</td>\n",
              "      <td>0.11390</td>\n",
              "      <td>0.30940</td>\n",
              "      <td>0.3403</td>\n",
              "      <td>0.1418</td>\n",
              "      <td>0.2218</td>\n",
              "      <td>0.07820</td>\n",
              "    </tr>\n",
              "    <tr>\n",
              "      <th>927241</th>\n",
              "      <td>M</td>\n",
              "      <td>20.60</td>\n",
              "      <td>29.33</td>\n",
              "      <td>140.10</td>\n",
              "      <td>1265.0</td>\n",
              "      <td>0.11780</td>\n",
              "      <td>0.27700</td>\n",
              "      <td>0.35140</td>\n",
              "      <td>0.15200</td>\n",
              "      <td>0.2397</td>\n",
              "      <td>...</td>\n",
              "      <td>25.740</td>\n",
              "      <td>39.42</td>\n",
              "      <td>184.60</td>\n",
              "      <td>1821.0</td>\n",
              "      <td>0.16500</td>\n",
              "      <td>0.86810</td>\n",
              "      <td>0.9387</td>\n",
              "      <td>0.2650</td>\n",
              "      <td>0.4087</td>\n",
              "      <td>0.12400</td>\n",
              "    </tr>\n",
              "    <tr>\n",
              "      <th>92751</th>\n",
              "      <td>B</td>\n",
              "      <td>7.76</td>\n",
              "      <td>24.54</td>\n",
              "      <td>47.92</td>\n",
              "      <td>181.0</td>\n",
              "      <td>0.05263</td>\n",
              "      <td>0.04362</td>\n",
              "      <td>0.00000</td>\n",
              "      <td>0.00000</td>\n",
              "      <td>0.1587</td>\n",
              "      <td>...</td>\n",
              "      <td>9.456</td>\n",
              "      <td>30.37</td>\n",
              "      <td>59.16</td>\n",
              "      <td>268.6</td>\n",
              "      <td>0.08996</td>\n",
              "      <td>0.06444</td>\n",
              "      <td>0.0000</td>\n",
              "      <td>0.0000</td>\n",
              "      <td>0.2871</td>\n",
              "      <td>0.07039</td>\n",
              "    </tr>\n",
              "  </tbody>\n",
              "</table>\n",
              "<p>569 rows × 31 columns</p>\n",
              "</div>\n",
              "      <button class=\"colab-df-convert\" onclick=\"convertToInteractive('df-54225321-6553-4993-a176-06a20620b42c')\"\n",
              "              title=\"Convert this dataframe to an interactive table.\"\n",
              "              style=\"display:none;\">\n",
              "        \n",
              "  <svg xmlns=\"http://www.w3.org/2000/svg\" height=\"24px\"viewBox=\"0 0 24 24\"\n",
              "       width=\"24px\">\n",
              "    <path d=\"M0 0h24v24H0V0z\" fill=\"none\"/>\n",
              "    <path d=\"M18.56 5.44l.94 2.06.94-2.06 2.06-.94-2.06-.94-.94-2.06-.94 2.06-2.06.94zm-11 1L8.5 8.5l.94-2.06 2.06-.94-2.06-.94L8.5 2.5l-.94 2.06-2.06.94zm10 10l.94 2.06.94-2.06 2.06-.94-2.06-.94-.94-2.06-.94 2.06-2.06.94z\"/><path d=\"M17.41 7.96l-1.37-1.37c-.4-.4-.92-.59-1.43-.59-.52 0-1.04.2-1.43.59L10.3 9.45l-7.72 7.72c-.78.78-.78 2.05 0 2.83L4 21.41c.39.39.9.59 1.41.59.51 0 1.02-.2 1.41-.59l7.78-7.78 2.81-2.81c.8-.78.8-2.07 0-2.86zM5.41 20L4 18.59l7.72-7.72 1.47 1.35L5.41 20z\"/>\n",
              "  </svg>\n",
              "      </button>\n",
              "      \n",
              "  <style>\n",
              "    .colab-df-container {\n",
              "      display:flex;\n",
              "      flex-wrap:wrap;\n",
              "      gap: 12px;\n",
              "    }\n",
              "\n",
              "    .colab-df-convert {\n",
              "      background-color: #E8F0FE;\n",
              "      border: none;\n",
              "      border-radius: 50%;\n",
              "      cursor: pointer;\n",
              "      display: none;\n",
              "      fill: #1967D2;\n",
              "      height: 32px;\n",
              "      padding: 0 0 0 0;\n",
              "      width: 32px;\n",
              "    }\n",
              "\n",
              "    .colab-df-convert:hover {\n",
              "      background-color: #E2EBFA;\n",
              "      box-shadow: 0px 1px 2px rgba(60, 64, 67, 0.3), 0px 1px 3px 1px rgba(60, 64, 67, 0.15);\n",
              "      fill: #174EA6;\n",
              "    }\n",
              "\n",
              "    [theme=dark] .colab-df-convert {\n",
              "      background-color: #3B4455;\n",
              "      fill: #D2E3FC;\n",
              "    }\n",
              "\n",
              "    [theme=dark] .colab-df-convert:hover {\n",
              "      background-color: #434B5C;\n",
              "      box-shadow: 0px 1px 3px 1px rgba(0, 0, 0, 0.15);\n",
              "      filter: drop-shadow(0px 1px 2px rgba(0, 0, 0, 0.3));\n",
              "      fill: #FFFFFF;\n",
              "    }\n",
              "  </style>\n",
              "\n",
              "      <script>\n",
              "        const buttonEl =\n",
              "          document.querySelector('#df-54225321-6553-4993-a176-06a20620b42c button.colab-df-convert');\n",
              "        buttonEl.style.display =\n",
              "          google.colab.kernel.accessAllowed ? 'block' : 'none';\n",
              "\n",
              "        async function convertToInteractive(key) {\n",
              "          const element = document.querySelector('#df-54225321-6553-4993-a176-06a20620b42c');\n",
              "          const dataTable =\n",
              "            await google.colab.kernel.invokeFunction('convertToInteractive',\n",
              "                                                     [key], {});\n",
              "          if (!dataTable) return;\n",
              "\n",
              "          const docLinkHtml = 'Like what you see? Visit the ' +\n",
              "            '<a target=\"_blank\" href=https://colab.research.google.com/notebooks/data_table.ipynb>data table notebook</a>'\n",
              "            + ' to learn more about interactive tables.';\n",
              "          element.innerHTML = '';\n",
              "          dataTable['output_type'] = 'display_data';\n",
              "          await google.colab.output.renderOutput(dataTable, element);\n",
              "          const docLink = document.createElement('div');\n",
              "          docLink.innerHTML = docLinkHtml;\n",
              "          element.appendChild(docLink);\n",
              "        }\n",
              "      </script>\n",
              "    </div>\n",
              "  </div>\n",
              "  "
            ]
          },
          "metadata": {},
          "execution_count": 229
        }
      ]
    },
    {
      "cell_type": "code",
      "source": [
        "bc.isnull().values.any()\n",
        "bc.isnull().sum()"
      ],
      "metadata": {
        "colab": {
          "base_uri": "https://localhost:8080/"
        },
        "id": "BNxXaQUrJE98",
        "outputId": "51b1490d-7fb4-4ef5-8712-ad4f442d7561"
      },
      "execution_count": 230,
      "outputs": [
        {
          "output_type": "execute_result",
          "data": {
            "text/plain": [
              "diagnosis                  0\n",
              "radius_mean                0\n",
              "texture_mean               0\n",
              "perimeter_mean             0\n",
              "area_mean                  0\n",
              "smoothness_mean            0\n",
              "compactness_mean           0\n",
              "concavity_mean             0\n",
              "concave points_mean        0\n",
              "symmetry_mean              0\n",
              "fractal_dimension_mean     0\n",
              "radius_se                  0\n",
              "texture_se                 0\n",
              "perimeter_se               0\n",
              "area_se                    0\n",
              "smoothness_se              0\n",
              "compactness_se             0\n",
              "concavity_se               0\n",
              "concave points_se          0\n",
              "symmetry_se                0\n",
              "fractal_dimension_se       0\n",
              "radius_worst               0\n",
              "texture_worst              0\n",
              "perimeter_worst            0\n",
              "area_worst                 0\n",
              "smoothness_worst           0\n",
              "compactness_worst          0\n",
              "concavity_worst            0\n",
              "concave points_worst       0\n",
              "symmetry_worst             0\n",
              "fractal_dimension_worst    0\n",
              "dtype: int64"
            ]
          },
          "metadata": {},
          "execution_count": 230
        }
      ]
    },
    {
      "cell_type": "code",
      "source": [
        "X = bc.drop(\"diagnosis\" ,axis= 1)\n",
        "y = bc['diagnosis']"
      ],
      "metadata": {
        "id": "rA8KmaA2Pn1X"
      },
      "execution_count": 231,
      "outputs": []
    },
    {
      "cell_type": "code",
      "source": [
        "from sklearn.tree import DecisionTreeClassifier\n",
        "from sklearn.model_selection import GridSearchCV"
      ],
      "metadata": {
        "id": "YvuoCg0uLif0"
      },
      "execution_count": 232,
      "outputs": []
    },
    {
      "cell_type": "code",
      "source": [
        "X_TRAIN, X_TEST, Y_TRAIN, Y_TEST = train_test_split(X,y,test_size=0.2, random_state=42)"
      ],
      "metadata": {
        "id": "VD012Qa5Nx6V"
      },
      "execution_count": 233,
      "outputs": []
    },
    {
      "cell_type": "markdown",
      "source": [
        "Decison tree | Hyperparameter Tuning"
      ],
      "metadata": {
        "id": "nWgGFx9yLoqy"
      }
    },
    {
      "cell_type": "code",
      "source": [
        "tree = DecisionTreeClassifier(random_state = 1024)\n",
        "parameter = {'max_depth': [2,3,4,5,6,7,8,9,10]}\n",
        "clf_tree = GridSearchCV(tree, param_grid = parameter, cv = 5 )\n",
        "clf_tree.fit(X_TRAIN,Y_TRAIN)"
      ],
      "metadata": {
        "id": "SoFNl-YvOL3X",
        "colab": {
          "base_uri": "https://localhost:8080/"
        },
        "outputId": "c8c01aca-3f99-4d20-de1e-95a6e76e38a3"
      },
      "execution_count": 234,
      "outputs": [
        {
          "output_type": "execute_result",
          "data": {
            "text/plain": [
              "GridSearchCV(cv=5, estimator=DecisionTreeClassifier(random_state=1024),\n",
              "             param_grid={'max_depth': [2, 3, 4, 5, 6, 7, 8, 9, 10]})"
            ]
          },
          "metadata": {},
          "execution_count": 234
        }
      ]
    },
    {
      "cell_type": "code",
      "source": [
        "clf_tree.best_params_"
      ],
      "metadata": {
        "colab": {
          "base_uri": "https://localhost:8080/"
        },
        "id": "f0w0wR_5K9Cg",
        "outputId": "640c2ddb-010d-42fc-ffd6-6f0396acde67"
      },
      "execution_count": 235,
      "outputs": [
        {
          "output_type": "execute_result",
          "data": {
            "text/plain": [
              "{'max_depth': 5}"
            ]
          },
          "metadata": {},
          "execution_count": 235
        }
      ]
    },
    {
      "cell_type": "code",
      "source": [
        "print(\"The test accuracy is\", clf_tree.score(X_TEST,Y_TEST))\n",
        "print(\"The cross validation mean score for depth :\",clf_tree.best_params_,\"is\",clf_tree.best_score_)"
      ],
      "metadata": {
        "colab": {
          "base_uri": "https://localhost:8080/"
        },
        "id": "iljkL_8xK0FF",
        "outputId": "701f7438-0538-4f1b-efb8-3c60aa9d174f"
      },
      "execution_count": 236,
      "outputs": [
        {
          "output_type": "stream",
          "name": "stdout",
          "text": [
            "The test accuracy is 0.9473684210526315\n",
            "The cross validation mean score for depth : {'max_depth': 5} is 0.9296703296703297\n"
          ]
        }
      ]
    },
    {
      "cell_type": "markdown",
      "source": [
        "Random Forest | Hyperparameter Tuning "
      ],
      "metadata": {
        "id": "QA8aWmOVLvBa"
      }
    },
    {
      "cell_type": "code",
      "source": [
        "from sklearn.ensemble import RandomForestClassifier\n",
        "forest = RandomForestClassifier(n_estimators = 100, random_state = 1024)\n",
        "\n",
        "tuning = {'max_depth': [2,3,4,5,6,7,8,9,10]}\n",
        "clf_forest = GridSearchCV(forest, param_grid= tuning , cv= 5 )\n",
        "clf_forest.fit(X_TRAIN, Y_TRAIN)\n",
        "clf_forest.score(X_TEST,Y_TEST)"
      ],
      "metadata": {
        "colab": {
          "base_uri": "https://localhost:8080/"
        },
        "id": "GRmFghTdL0hS",
        "outputId": "f70011ae-4dd2-420b-90db-4ac8d3e5fb88"
      },
      "execution_count": 237,
      "outputs": [
        {
          "output_type": "execute_result",
          "data": {
            "text/plain": [
              "0.9649122807017544"
            ]
          },
          "metadata": {},
          "execution_count": 237
        }
      ]
    },
    {
      "cell_type": "code",
      "source": [
        "print(\"The test accuracy is\", clf_forest.score(X_TEST,Y_TEST))\n",
        "print(\"The cross validation mean score for depth :\",clf_forest.best_params_,\"is\",clf_forest.best_score_)"
      ],
      "metadata": {
        "colab": {
          "base_uri": "https://localhost:8080/"
        },
        "id": "Y1l1LPreL0kk",
        "outputId": "96337530-21b6-4c87-f889-c0ce417138b7"
      },
      "execution_count": 238,
      "outputs": [
        {
          "output_type": "stream",
          "name": "stdout",
          "text": [
            "The test accuracy is 0.9649122807017544\n",
            "The cross validation mean score for depth : {'max_depth': 9} is 0.9604395604395604\n"
          ]
        }
      ]
    },
    {
      "cell_type": "code",
      "source": [],
      "metadata": {
        "id": "f9BdB3hJL0o2"
      },
      "execution_count": 238,
      "outputs": []
    },
    {
      "cell_type": "markdown",
      "source": [
        "\n",
        "We can notice that the random forest is performing better on the test data set compared to the decsion tree model. \n",
        "\n",
        "This is because decision trees are prone to overfitting because they can keep dividing the data into smaller and smaller subsets and each division results in the possibility of a more finely-tuned decision boundary. This can lead to a decision tree that perfectly fits the training data, but does not generalize well to new data. This is because the tree may have learned patterns that are specific to the training data, but are not present in the broader population.\n",
        "\n",
        "On the other hand, If we look at a random forests it reduces the risk of overfitting by constructing multiple decision trees and aggregating their predictions. Each tree in the random forest is constructed from a bootstrapped sample of the training data and a random subset of the features is chosen for each split. This means that each tree in the random forest is different, and the overall prediction is based on the number of votes gained from all the decision tress for a classification problem."
      ],
      "metadata": {
        "id": "3C6FM-AJPcNz"
      }
    },
    {
      "cell_type": "code",
      "source": [],
      "metadata": {
        "id": "6IL72xrfL0s7"
      },
      "execution_count": 238,
      "outputs": []
    },
    {
      "cell_type": "markdown",
      "source": [
        "####  Repeat the exercise but add ±10% noise to 25% of the data (Optional)"
      ],
      "metadata": {
        "id": "4k4nskDtafj_"
      }
    },
    {
      "cell_type": "markdown",
      "source": [],
      "metadata": {
        "id": "0lfqrFWlJUY_"
      }
    },
    {
      "cell_type": "code",
      "source": [
        "import random \n",
        "new_X = X\n",
        "sample1 = new_X.sample(frac = 0.25)\n",
        "noisy = random.randint(-10, 10)/100\n",
        "sample1 = sample1 + (noisy * sample1)\n",
        "new_X.update(sample1)\n",
        "\n",
        "X_train_, X_test_, y_train_, y_test_ = train_test_split(new_X, y, test_size = 0.2, random_state = 42, shuffle = True)\n",
        "print(X_train_.shape, y_train_.shape)\n",
        "print(X_test_.shape, y_test_.shape)"
      ],
      "metadata": {
        "id": "l-4Mc8bxakpN",
        "colab": {
          "base_uri": "https://localhost:8080/"
        },
        "outputId": "26e7c544-00b1-412e-bfc8-10716cd7dffd"
      },
      "execution_count": 239,
      "outputs": [
        {
          "output_type": "stream",
          "name": "stdout",
          "text": [
            "(455, 30) (455,)\n",
            "(114, 30) (114,)\n"
          ]
        }
      ]
    },
    {
      "cell_type": "code",
      "source": [
        "tree = DecisionTreeClassifier(random_state = 1024)\n",
        "parameter = {'max_depth': [2,3,4,5,6,7,8,9,10]}\n",
        "clf_tree = GridSearchCV(tree, param_grid = parameter, cv = 5 )\n",
        "clf_tree.fit(X_train_,y_train_)"
      ],
      "metadata": {
        "colab": {
          "base_uri": "https://localhost:8080/"
        },
        "id": "E6_ZepMYUo_N",
        "outputId": "fca72e13-c673-4710-810e-eaf2e8dc093e"
      },
      "execution_count": 240,
      "outputs": [
        {
          "output_type": "execute_result",
          "data": {
            "text/plain": [
              "GridSearchCV(cv=5, estimator=DecisionTreeClassifier(random_state=1024),\n",
              "             param_grid={'max_depth': [2, 3, 4, 5, 6, 7, 8, 9, 10]})"
            ]
          },
          "metadata": {},
          "execution_count": 240
        }
      ]
    },
    {
      "cell_type": "code",
      "source": [
        "print(\"The accuracy after adding noise to 25 % data and using decsion trees\",clf_tree.score(X_test_,y_test_))"
      ],
      "metadata": {
        "colab": {
          "base_uri": "https://localhost:8080/"
        },
        "id": "fFXAz7_wU7uC",
        "outputId": "8fd6840c-7bee-47e7-d8a2-d996b429522e"
      },
      "execution_count": 241,
      "outputs": [
        {
          "output_type": "stream",
          "name": "stdout",
          "text": [
            "The accuracy after adding noise to 25 % data and using decsion trees 0.9385964912280702\n"
          ]
        }
      ]
    },
    {
      "cell_type": "markdown",
      "source": [
        "We can see that adding noise has lead to a slight reduction in accuracy."
      ],
      "metadata": {
        "id": "SBITJHx-VgRF"
      }
    },
    {
      "cell_type": "markdown",
      "source": [
        "### Boosting\n",
        "\n",
        "Implement a boosting classifier algorithm for the same dataset as above (sample without noise)\n",
        "\n",
        "Feel free to use any boosting algorithm you want\n",
        "\n",
        "However only run the code for the eventual algorithm you choose and comment out every other algorithm\n",
        "\n",
        "Briefly explain why you chose a particular algorithm"
      ],
      "metadata": {
        "id": "Qy9n-nOFrJIC"
      }
    },
    {
      "cell_type": "code",
      "source": [
        "#Adaboost\n",
        "from sklearn.ensemble import AdaBoostClassifier\n",
        "from sklearn.datasets import make_classification\n",
        "d = DecisionTreeClassifier(max_depth = 5)\n",
        "clf_ada = AdaBoostClassifier(d,n_estimators=100, random_state=0)\n",
        "clf_ada.fit(X_TRAIN, Y_TRAIN)"
      ],
      "metadata": {
        "id": "2TqA4iczrKYv",
        "colab": {
          "base_uri": "https://localhost:8080/"
        },
        "outputId": "63bba17d-e9a2-4274-dbef-921f557a6e96"
      },
      "execution_count": 242,
      "outputs": [
        {
          "output_type": "execute_result",
          "data": {
            "text/plain": [
              "AdaBoostClassifier(base_estimator=DecisionTreeClassifier(max_depth=5),\n",
              "                   n_estimators=100, random_state=0)"
            ]
          },
          "metadata": {},
          "execution_count": 242
        }
      ]
    },
    {
      "cell_type": "code",
      "source": [
        "clf_ada.score(X_TEST,Y_TEST)"
      ],
      "metadata": {
        "colab": {
          "base_uri": "https://localhost:8080/"
        },
        "id": "tJGqgUnmomrS",
        "outputId": "4228a4e3-b384-4378-95d8-968ed2034669"
      },
      "execution_count": 243,
      "outputs": [
        {
          "output_type": "execute_result",
          "data": {
            "text/plain": [
              "0.9736842105263158"
            ]
          },
          "metadata": {},
          "execution_count": 243
        }
      ]
    },
    {
      "cell_type": "markdown",
      "source": [
        "I tried 3 available boosting algorithms and was getting the same accuracy with Adaboost and XgBoost. Thus I concluded that we can not reach any generalisations as to which one is better as both the boosting algorithms were performing equally. It will be fair to say that each algorithm might perform differently with specfic use case."
      ],
      "metadata": {
        "id": "CYTk_-oyTkd8"
      }
    },
    {
      "cell_type": "code",
      "source": [
        "# #GradientBoosting\n",
        "\n",
        "# from sklearn.ensemble import GradientBoostingClassifier\n",
        "# clf_gb = GradientBoostingClassifier(n_estimators=100, learning_rate=1.0,\n",
        "#     max_depth=5, random_state=0)\n",
        "\n",
        "# clf_gb.fit(X_TRAIN, Y_TRAIN)\n",
        "# clf_gb.score(X_TEST, Y_TEST)"
      ],
      "metadata": {
        "id": "WnyGc7oaox6v"
      },
      "execution_count": 244,
      "outputs": []
    },
    {
      "cell_type": "code",
      "source": [
        "# Y_TRAIN_MODIFIED = np.where(Y_TRAIN == 'B', 0, 1)\n",
        "# Y_TEST_MODIFIED = np.where(Y_TEST == 'B', 0, 1)\n",
        "\n",
        "# import xgboost as xgb\n",
        "# params = {'colsample_bytree': 0.3,'learning_rate': 0.1,\n",
        "#                 'max_depth': 5, 'alpha': 10}\n",
        "# clf_xg = xgb.XGBClassifier(**params)\n",
        "# clf_xg.fit(X_TRAIN, Y_TRAIN_MODIFIED)\n",
        "\n",
        "# clf_xg.score(X_TEST,Y_TEST_MODIFIED)\n",
        "\n"
      ],
      "metadata": {
        "id": "sUtyDamw6DWI"
      },
      "execution_count": 245,
      "outputs": []
    },
    {
      "cell_type": "markdown",
      "source": [
        "### Bagging\n",
        "\n",
        "Implement a bagging classifier on the RF you created above\n",
        "\n",
        "\n",
        "> from sklearn.ensemble import BaggingClassifier\n",
        "\n",
        "You will have to pass the DT into the Bagging Classifier\n",
        "\n",
        "Once you have the y_pred for Bagging and RF, accurately compute the accuracy by computing the numpy sum where pred(bagging) == pred(RF) and divide by len(pred(bagging))\n",
        "\n",
        "Please provide rationale behind why this is done.\n",
        "\n"
      ],
      "metadata": {
        "id": "hsEMVq_wyqJO"
      }
    },
    {
      "cell_type": "code",
      "source": [
        "from sklearn.ensemble import BaggingClassifier\n",
        "\n",
        "dt = DecisionTreeClassifier(max_depth=9)\n",
        "clf_bag = BaggingClassifier(base_estimator=dt,\n",
        "                            n_estimators= 100, \n",
        "                            max_samples= 0.6)\n",
        "clf_bag.fit(X_TRAIN,Y_TRAIN)"
      ],
      "metadata": {
        "id": "AFwD6cjpzupM",
        "colab": {
          "base_uri": "https://localhost:8080/"
        },
        "outputId": "07c7361d-c927-4b1e-ef79-95ef962d7109"
      },
      "execution_count": 246,
      "outputs": [
        {
          "output_type": "execute_result",
          "data": {
            "text/plain": [
              "BaggingClassifier(base_estimator=DecisionTreeClassifier(max_depth=9),\n",
              "                  max_samples=0.6, n_estimators=100)"
            ]
          },
          "metadata": {},
          "execution_count": 246
        }
      ]
    },
    {
      "cell_type": "code",
      "source": [
        "clf_bag.score(X_TEST,Y_TEST)"
      ],
      "metadata": {
        "colab": {
          "base_uri": "https://localhost:8080/"
        },
        "id": "e3jt-h2UTHEl",
        "outputId": "06312ce9-9464-44c6-9662-17ee1f17c1f0"
      },
      "execution_count": 247,
      "outputs": [
        {
          "output_type": "execute_result",
          "data": {
            "text/plain": [
              "0.956140350877193"
            ]
          },
          "metadata": {},
          "execution_count": 247
        }
      ]
    },
    {
      "cell_type": "code",
      "source": [
        "clf_forest.score(X_TEST,Y_TEST)"
      ],
      "metadata": {
        "colab": {
          "base_uri": "https://localhost:8080/"
        },
        "id": "KZBgH0JmScLh",
        "outputId": "6eeeb8e2-5fc8-4418-912b-e65b3f0cdb50"
      },
      "execution_count": 248,
      "outputs": [
        {
          "output_type": "execute_result",
          "data": {
            "text/plain": [
              "0.9649122807017544"
            ]
          },
          "metadata": {},
          "execution_count": 248
        }
      ]
    },
    {
      "cell_type": "code",
      "source": [
        "bag = clf_bag.predict(X_TEST) \n",
        "rforest = clf_forest.predict(X_TEST) \n",
        "\n",
        "c=0\n",
        "for i in range(len(bag)):\n",
        "  if bag[i]==rforest[i]:\n",
        "    c = c+1\n",
        "\n",
        "print(c)\n",
        "print(len(bag))\n",
        "print(c/len(bag))"
      ],
      "metadata": {
        "id": "-MGJcHrOoR1h",
        "colab": {
          "base_uri": "https://localhost:8080/"
        },
        "outputId": "6f981d1a-81e8-4e52-8245-c95fe2b2c192"
      },
      "execution_count": 249,
      "outputs": [
        {
          "output_type": "stream",
          "name": "stdout",
          "text": [
            "113\n",
            "114\n",
            "0.9912280701754386\n"
          ]
        }
      ]
    },
    {
      "cell_type": "markdown",
      "source": [
        "Lets take z = pred(bagging) == pred(RF) / len(bagging)\n",
        "\n",
        "We can see that on getting the output of this equation in case z > the accuracy of either of the models i.e Bagging or Random forest (which indeed is the case in our combined result). \n",
        "\n",
        "We can infer that the combined predictions is higher because both the models have done misclassifications for the same data point which is being counted. "
      ],
      "metadata": {
        "id": "73T9VFpSOdGb"
      }
    },
    {
      "cell_type": "markdown",
      "source": [
        "Bonus : While you are looking at ensemble models, explore VotingClassifier"
      ],
      "metadata": {
        "id": "OJj8c79e0JUr"
      }
    },
    {
      "cell_type": "code",
      "source": [
        "#Using VotingClassfier\n",
        "from sklearn.ensemble import AdaBoostClassifier, GradientBoostingClassifier, RandomForestClassifier, VotingClassifier\n",
        "from sklearn.tree import DecisionTreeClassifier\n",
        "voting_clf = VotingClassifier(estimators=[('ada', clf_ada), ('dt', clf_tree), ('rf', clf_forest)], voting='soft')\n",
        "\n",
        "# voting_clf = VotingClassifier(estimators=[('ada', clf_ada), ('gb', clf_gb), ('rf', clf_forest), ('dt', clf_tree)], voting='soft')\n",
        "voting_clf.fit(X_TRAIN, Y_TRAIN)\n",
        "y_pred = voting_clf.predict(X_TEST)\n",
        "\n",
        "accuracy = voting_clf.score(X_TEST, Y_TEST)\n",
        "print(f'Test accuracy: {accuracy:}')"
      ],
      "metadata": {
        "id": "iM0zcFYw0OXd",
        "colab": {
          "base_uri": "https://localhost:8080/"
        },
        "outputId": "b9dd2083-0354-499e-fcea-bcd69b61f598"
      },
      "execution_count": 250,
      "outputs": [
        {
          "output_type": "stream",
          "name": "stdout",
          "text": [
            "Test accuracy: 0.9649122807017544\n"
          ]
        }
      ]
    },
    {
      "cell_type": "code",
      "source": [],
      "metadata": {
        "id": "8_JvCWj6I10Y"
      },
      "execution_count": 250,
      "outputs": []
    }
  ]
}